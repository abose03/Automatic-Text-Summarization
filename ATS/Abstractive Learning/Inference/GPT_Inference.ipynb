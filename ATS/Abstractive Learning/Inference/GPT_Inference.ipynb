{
 "cells": [
  {
   "cell_type": "code",
   "execution_count": 2,
   "id": "753bbaa3-51e5-4dca-b828-8054659953fb",
   "metadata": {},
   "outputs": [],
   "source": [
    "import os\n",
    "import json\n",
    "import time\n",
    "import torch\n",
    "import random \n",
    "import numpy as np\n",
    "import pandas as pd\n",
    "from statistics import mean\n",
    "from matplotlib import pyplot as plt\n",
    "\n",
    "import torch.nn as nn\n",
    "from torch.utils.data import DataLoader, Dataset\n",
    "from transformers import AutoTokenizer, GPTNeoForCausalLM, AdamW, get_cosine_with_hard_restarts_schedule_with_warmup\n",
    "from tqdm import tqdm, trange\n",
    "\n",
    "import os\n",
    "os.environ['TOKENIZERS_PARALLELISM'] = 'false'"
   ]
  },
  {
   "cell_type": "code",
   "execution_count": 3,
   "id": "5b35c3f0-2503-4065-99d2-6cce95f831a5",
   "metadata": {},
   "outputs": [],
   "source": [
    "# read the file for which we need the predictions.\n",
    "df = pd.read_excel('../DATA/BART_Test_Merged_corrupted.xlsx')"
   ]
  },
  {
   "cell_type": "code",
   "execution_count": 4,
   "id": "1d9dadf0-a716-4d80-8f29-6160a3794f53",
   "metadata": {},
   "outputs": [
    {
     "data": {
      "text/html": [
       "<div>\n",
       "<style scoped>\n",
       "    .dataframe tbody tr th:only-of-type {\n",
       "        vertical-align: middle;\n",
       "    }\n",
       "\n",
       "    .dataframe tbody tr th {\n",
       "        vertical-align: top;\n",
       "    }\n",
       "\n",
       "    .dataframe thead th {\n",
       "        text-align: right;\n",
       "    }\n",
       "</style>\n",
       "<table border=\"1\" class=\"dataframe\">\n",
       "  <thead>\n",
       "    <tr style=\"text-align: right;\">\n",
       "      <th></th>\n",
       "      <th>highlights</th>\n",
       "      <th>distilbart-cnn-12-6</th>\n",
       "      <th>id</th>\n",
       "      <th>article</th>\n",
       "      <th>noisy</th>\n",
       "      <th>Pronoun_replaced</th>\n",
       "      <th>deleted_added_noise</th>\n",
       "    </tr>\n",
       "  </thead>\n",
       "  <tbody>\n",
       "    <tr>\n",
       "      <th>0</th>\n",
       "      <td>Experts question if  packed out planes are put...</td>\n",
       "      <td>U.S consumer advisory group set up by the Dep...</td>\n",
       "      <td>92c514c913c0bdfe25341af9fd72b29db544099b</td>\n",
       "      <td>Ever noticed how plane seats appear to be gett...</td>\n",
       "      <td>experts did not question if  packed out planes...</td>\n",
       "      <td>experts question if packed out planes are putt...</td>\n",
       "      <td>if packed out planes planes are putting passen...</td>\n",
       "    </tr>\n",
       "    <tr>\n",
       "      <th>1</th>\n",
       "      <td>Drunk teenage boy climbed into lion enclosure ...</td>\n",
       "      <td>Rahul Kumar, 17, climbed into the enclosure a...</td>\n",
       "      <td>2003841c7dc0e7c5b1a248f9cd536d727f27a45a</td>\n",
       "      <td>A drunk teenage boy had to be rescued by secur...</td>\n",
       "      <td>drunk teenage boy did not climb into lion encl...</td>\n",
       "      <td>drunk teenage boy climbed into lion enclosure ...</td>\n",
       "      <td>drunk climbed lion enclosure at in west . kuma...</td>\n",
       "    </tr>\n",
       "  </tbody>\n",
       "</table>\n",
       "</div>"
      ],
      "text/plain": [
       "                                          highlights  \\\n",
       "0  Experts question if  packed out planes are put...   \n",
       "1  Drunk teenage boy climbed into lion enclosure ...   \n",
       "\n",
       "                                 distilbart-cnn-12-6  \\\n",
       "0   U.S consumer advisory group set up by the Dep...   \n",
       "1   Rahul Kumar, 17, climbed into the enclosure a...   \n",
       "\n",
       "                                         id  \\\n",
       "0  92c514c913c0bdfe25341af9fd72b29db544099b   \n",
       "1  2003841c7dc0e7c5b1a248f9cd536d727f27a45a   \n",
       "\n",
       "                                             article  \\\n",
       "0  Ever noticed how plane seats appear to be gett...   \n",
       "1  A drunk teenage boy had to be rescued by secur...   \n",
       "\n",
       "                                               noisy  \\\n",
       "0  experts did not question if  packed out planes...   \n",
       "1  drunk teenage boy did not climb into lion encl...   \n",
       "\n",
       "                                    Pronoun_replaced  \\\n",
       "0  experts question if packed out planes are putt...   \n",
       "1  drunk teenage boy climbed into lion enclosure ...   \n",
       "\n",
       "                                 deleted_added_noise  \n",
       "0  if packed out planes planes are putting passen...  \n",
       "1  drunk climbed lion enclosure at in west . kuma...  "
      ]
     },
     "execution_count": 4,
     "metadata": {},
     "output_type": "execute_result"
    }
   ],
   "source": [
    "df.head(2)"
   ]
  },
  {
   "cell_type": "code",
   "execution_count": 9,
   "id": "4ab077a2-5b27-4d0c-b90e-ae6e9097cfed",
   "metadata": {},
   "outputs": [
    {
     "name": "stdout",
     "output_type": "stream",
     "text": [
      "<class 'pandas.core.frame.DataFrame'>\n",
      "RangeIndex: 503 entries, 0 to 502\n",
      "Data columns (total 7 columns):\n",
      " #   Column               Non-Null Count  Dtype \n",
      "---  ------               --------------  ----- \n",
      " 0   highlights           503 non-null    object\n",
      " 1   distilbart-cnn-12-6  503 non-null    object\n",
      " 2   id                   503 non-null    object\n",
      " 3   article              503 non-null    object\n",
      " 4   noisy                503 non-null    object\n",
      " 5   Pronoun_replaced     503 non-null    object\n",
      " 6   deleted_added_noise  503 non-null    object\n",
      "dtypes: object(7)\n",
      "memory usage: 27.6+ KB\n"
     ]
    }
   ],
   "source": [
    "df.info()"
   ]
  },
  {
   "cell_type": "code",
   "execution_count": 5,
   "id": "afa90b11-1241-4f82-b3d9-0d35db267b62",
   "metadata": {},
   "outputs": [],
   "source": [
    "#seeding everything.\n",
    "def seed_everything(seed):\n",
    "    \"\"\"\n",
    "    Seeds basic parameters for reproductibility of results\n",
    "    \n",
    "    Arguments:\n",
    "    \n",
    "        seed {int} -- Number of the seed\n",
    "    \"\"\"\n",
    "    random.seed(seed)\n",
    "    os.environ[\"PYTHONHASHSEED\"] = str(seed)\n",
    "    np.random.seed(seed)\n",
    "    torch.manual_seed(seed)\n",
    "    torch.cuda.manual_seed(seed)\n",
    "    torch.backends.cudnn.deterministic = True\n",
    "    torch.backends.cudnn.benchmark = False\n",
    "\n",
    "seed = 2021\n",
    "seed_everything(seed)"
   ]
  },
  {
   "cell_type": "code",
   "execution_count": 6,
   "id": "85256cc4-75b0-4c4c-a144-2dec9aff8178",
   "metadata": {},
   "outputs": [],
   "source": [
    "# load the tokenizer and model.\n",
    "tokenizer = AutoTokenizer.from_pretrained(\"EleutherAI/gpt-neo-125M\")\n",
    "model = GPTNeoForCausalLM.from_pretrained(\"../Training/GPT_Model/\")"
   ]
  },
  {
   "cell_type": "code",
   "execution_count": 68,
   "id": "b328996d-12d8-4491-95d7-bec131ffaeda",
   "metadata": {},
   "outputs": [],
   "source": [
    "# assigning the pad_token to eos_token as GPT does not have pad_token\n",
    "tokenizer.pad_token = tokenizer.eos_token\n",
    "# making the padding to the left side rather than right side.\n",
    "tokenizer.padding_side = 'left'\n",
    "\n",
    "# also assigning the model pad token id to eos token id\n",
    "model.config.pad_token_id = model.config.eos_token_id"
   ]
  },
  {
   "cell_type": "code",
   "execution_count": 7,
   "id": "b4be1368-41c4-4a2c-8017-7550d08b9176",
   "metadata": {},
   "outputs": [],
   "source": [
    "# moving model to GPU\n",
    "_ = model.to('cuda:0')"
   ]
  },
  {
   "cell_type": "code",
   "execution_count": 8,
   "id": "b3754f93-f86a-4e5b-a142-1a08cfc8a039",
   "metadata": {},
   "outputs": [],
   "source": [
    "# function to return the prompt at nth loaction in a predefined format for summarization.\n",
    "def prompt(n):\n",
    "    #print(df.iloc[n]['highlights'])\n",
    "    return 'summarize: %s' % (df.iloc[n]['distilbart-cnn-12-6'])"
   ]
  },
  {
   "cell_type": "code",
   "execution_count": 71,
   "id": "245f3bfe-a37d-40b3-b3e1-95fc902cbd99",
   "metadata": {},
   "outputs": [
    {
     "name": "stderr",
     "output_type": "stream",
     "text": [
      "100%|████████████████████████████████████████████████████████████████████████████████████████████████████| 32/32 [05:03<00:00,  9.47s/it]\n"
     ]
    }
   ],
   "source": [
    "# creating an empty list for saving the Predictions from model.\n",
    "Pred = []\n",
    "\n",
    "# Assigning some Batch size for inference.\n",
    "BATCH_SIZE = 16\n",
    "\n",
    "# looping thought all the examples in the dataset.\n",
    "for i in trange(0, len(df), BATCH_SIZE):\n",
    "    \n",
    "    # try and catch block \n",
    "    # because the last batch if the data is not present for batch size the we will get error.\n",
    "    try:\n",
    "        # getting all prompts with batch size as list.\n",
    "        TEXT = [prompt(j) for j in range(i, i+BATCH_SIZE)]\n",
    "    except:\n",
    "        TEXT = [prompt(j) for j in range(i, len(df))]\n",
    "    \n",
    "    # tokenising the text using tokenizer. And moving to GPU.\n",
    "    inputs = tokenizer(TEXT, max_length=500, padding='max_length', truncation=True, return_tensors='pt').to('cuda:0')\n",
    "    \n",
    "    # generating the summary using generate method in model.\n",
    "    output = model.generate(**inputs, temperature=0.8, repetition_penalty=2.5, max_length=700)\n",
    "    \n",
    "    # converting back the generated token to text for all summaries in a batch.\n",
    "    Pred.extend(tokenizer.batch_decode(output[:, inputs['input_ids'].shape[-1]:], skip_special_tokens=True))"
   ]
  },
  {
   "cell_type": "code",
   "execution_count": 75,
   "id": "f0b06132-395d-4a08-a915-78646b9d0a4c",
   "metadata": {},
   "outputs": [],
   "source": [
    "# creating columns namde  predictions and assigning pred list\n",
    "df['Predictions'] = Pred"
   ]
  },
  {
   "cell_type": "code",
   "execution_count": 76,
   "id": "363e52dd-fb00-4aff-9b28-70f5d5e56fbe",
   "metadata": {},
   "outputs": [
    {
     "data": {
      "text/html": [
       "<div>\n",
       "<style scoped>\n",
       "    .dataframe tbody tr th:only-of-type {\n",
       "        vertical-align: middle;\n",
       "    }\n",
       "\n",
       "    .dataframe tbody tr th {\n",
       "        vertical-align: top;\n",
       "    }\n",
       "\n",
       "    .dataframe thead th {\n",
       "        text-align: right;\n",
       "    }\n",
       "</style>\n",
       "<table border=\"1\" class=\"dataframe\">\n",
       "  <thead>\n",
       "    <tr style=\"text-align: right;\">\n",
       "      <th></th>\n",
       "      <th>highlights</th>\n",
       "      <th>distilbart-cnn-12-6</th>\n",
       "      <th>id</th>\n",
       "      <th>article</th>\n",
       "      <th>noisy</th>\n",
       "      <th>Pronoun_replaced</th>\n",
       "      <th>deleted_added_noise</th>\n",
       "      <th>Pred_1ctions</th>\n",
       "      <th>Predictions</th>\n",
       "    </tr>\n",
       "  </thead>\n",
       "  <tbody>\n",
       "    <tr>\n",
       "      <th>0</th>\n",
       "      <td>Experts question if  packed out planes are put...</td>\n",
       "      <td>U.S consumer advisory group set up by the Dep...</td>\n",
       "      <td>92c514c913c0bdfe25341af9fd72b29db544099b</td>\n",
       "      <td>Ever noticed how plane seats appear to be gett...</td>\n",
       "      <td>experts did not question if  packed out planes...</td>\n",
       "      <td>experts question if packed out planes are putt...</td>\n",
       "      <td>if packed out planes planes are putting passen...</td>\n",
       "      <td>\\nAACACACACACACACACACACACACACACACACACACACACAC...</td>\n",
       "      <td>\\nU.S. Consumer Advisory Group set up by the D...</td>\n",
       "    </tr>\n",
       "    <tr>\n",
       "      <th>1</th>\n",
       "      <td>Drunk teenage boy climbed into lion enclosure ...</td>\n",
       "      <td>Rahul Kumar, 17, climbed into the enclosure a...</td>\n",
       "      <td>2003841c7dc0e7c5b1a248f9cd536d727f27a45a</td>\n",
       "      <td>A drunk teenage boy had to be rescued by secur...</td>\n",
       "      <td>drunk teenage boy did not climb into lion encl...</td>\n",
       "      <td>drunk teenage boy climbed into lion enclosure ...</td>\n",
       "      <td>drunk climbed lion enclosure at in west . kuma...</td>\n",
       "      <td>\\n\\nTheCRCRCRCRCRCRCRCRCRCRCRCRCRCRCRCRCRCRCR...</td>\n",
       "      <td>\\nRahul Kumar climbed into the enclosure at Ka...</td>\n",
       "    </tr>\n",
       "  </tbody>\n",
       "</table>\n",
       "</div>"
      ],
      "text/plain": [
       "                                          highlights  \\\n",
       "0  Experts question if  packed out planes are put...   \n",
       "1  Drunk teenage boy climbed into lion enclosure ...   \n",
       "\n",
       "                                 distilbart-cnn-12-6  \\\n",
       "0   U.S consumer advisory group set up by the Dep...   \n",
       "1   Rahul Kumar, 17, climbed into the enclosure a...   \n",
       "\n",
       "                                         id  \\\n",
       "0  92c514c913c0bdfe25341af9fd72b29db544099b   \n",
       "1  2003841c7dc0e7c5b1a248f9cd536d727f27a45a   \n",
       "\n",
       "                                             article  \\\n",
       "0  Ever noticed how plane seats appear to be gett...   \n",
       "1  A drunk teenage boy had to be rescued by secur...   \n",
       "\n",
       "                                               noisy  \\\n",
       "0  experts did not question if  packed out planes...   \n",
       "1  drunk teenage boy did not climb into lion encl...   \n",
       "\n",
       "                                    Pronoun_replaced  \\\n",
       "0  experts question if packed out planes are putt...   \n",
       "1  drunk teenage boy climbed into lion enclosure ...   \n",
       "\n",
       "                                 deleted_added_noise  \\\n",
       "0  if packed out planes planes are putting passen...   \n",
       "1  drunk climbed lion enclosure at in west . kuma...   \n",
       "\n",
       "                                        Pred_1ctions  \\\n",
       "0   \\nAACACACACACACACACACACACACACACACACACACACACAC...   \n",
       "1   \\n\\nTheCRCRCRCRCRCRCRCRCRCRCRCRCRCRCRCRCRCRCR...   \n",
       "\n",
       "                                         Predictions  \n",
       "0  \\nU.S. Consumer Advisory Group set up by the D...  \n",
       "1  \\nRahul Kumar climbed into the enclosure at Ka...  "
      ]
     },
     "execution_count": 76,
     "metadata": {},
     "output_type": "execute_result"
    }
   ],
   "source": [
    "df.head(2)"
   ]
  },
  {
   "cell_type": "code",
   "execution_count": 77,
   "id": "4a558834-a93a-4058-ace3-3fcff61d4ee0",
   "metadata": {},
   "outputs": [],
   "source": [
    "# save the predictions to an excel or csv.\n",
    "df.to_excel(\"../DATA/GPT_Predictions_test.xlsx\", index=False)"
   ]
  },
  {
   "cell_type": "code",
   "execution_count": null,
   "id": "48ae14a1-562b-40a7-bda5-2574ae3433ac",
   "metadata": {},
   "outputs": [],
   "source": []
  },
  {
   "cell_type": "code",
   "execution_count": null,
   "id": "6d4d9749-5b91-4d34-9405-a3147d5149a3",
   "metadata": {},
   "outputs": [],
   "source": []
  }
 ],
 "metadata": {
  "kernelspec": {
   "display_name": "BottleSum",
   "language": "python",
   "name": "bottlesum"
  },
  "language_info": {
   "codemirror_mode": {
    "name": "ipython",
    "version": 3
   },
   "file_extension": ".py",
   "mimetype": "text/x-python",
   "name": "python",
   "nbconvert_exporter": "python",
   "pygments_lexer": "ipython3",
   "version": "3.7.10"
  }
 },
 "nbformat": 4,
 "nbformat_minor": 5
}
