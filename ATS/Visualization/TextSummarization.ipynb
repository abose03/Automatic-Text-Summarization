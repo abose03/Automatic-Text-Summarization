{
  "cells": [
    {
      "cell_type": "code",
      "execution_count": null,
      "metadata": {
        "colab": {
          "base_uri": "https://localhost:8080/"
        },
        "id": "ImEFtnCAbmcq",
        "outputId": "2c62ee36-d102-45a8-a5ea-700c5416d70d"
      },
      "outputs": [
        {
          "name": "stdout",
          "output_type": "stream",
          "text": [
            "Looking in indexes: https://pypi.org/simple, https://us-python.pkg.dev/colab-wheels/public/simple/\n",
            "Requirement already satisfied: pandas-profiling in /usr/local/lib/python3.7/dist-packages (1.4.1)\n",
            "Requirement already satisfied: six>=1.9 in /usr/local/lib/python3.7/dist-packages (from pandas-profiling) (1.15.0)\n",
            "Requirement already satisfied: jinja2>=2.8 in /usr/local/lib/python3.7/dist-packages (from pandas-profiling) (2.11.3)\n",
            "Requirement already satisfied: matplotlib>=1.4 in /usr/local/lib/python3.7/dist-packages (from pandas-profiling) (3.2.2)\n",
            "Requirement already satisfied: pandas>=0.19 in /usr/local/lib/python3.7/dist-packages (from pandas-profiling) (1.3.5)\n",
            "Requirement already satisfied: MarkupSafe>=0.23 in /usr/local/lib/python3.7/dist-packages (from jinja2>=2.8->pandas-profiling) (2.0.1)\n",
            "Requirement already satisfied: pyparsing!=2.0.4,!=2.1.2,!=2.1.6,>=2.0.1 in /usr/local/lib/python3.7/dist-packages (from matplotlib>=1.4->pandas-profiling) (3.0.9)\n",
            "Requirement already satisfied: numpy>=1.11 in /usr/local/lib/python3.7/dist-packages (from matplotlib>=1.4->pandas-profiling) (1.21.6)\n",
            "Requirement already satisfied: cycler>=0.10 in /usr/local/lib/python3.7/dist-packages (from matplotlib>=1.4->pandas-profiling) (0.11.0)\n",
            "Requirement already satisfied: kiwisolver>=1.0.1 in /usr/local/lib/python3.7/dist-packages (from matplotlib>=1.4->pandas-profiling) (1.4.3)\n",
            "Requirement already satisfied: python-dateutil>=2.1 in /usr/local/lib/python3.7/dist-packages (from matplotlib>=1.4->pandas-profiling) (2.8.2)\n",
            "Requirement already satisfied: typing-extensions in /usr/local/lib/python3.7/dist-packages (from kiwisolver>=1.0.1->matplotlib>=1.4->pandas-profiling) (4.1.1)\n",
            "Requirement already satisfied: pytz>=2017.3 in /usr/local/lib/python3.7/dist-packages (from pandas>=0.19->pandas-profiling) (2022.1)\n"
          ]
        }
      ],
      "source": [
        "#pip install pandas-profiling"
      ]
    },
    {
      "cell_type": "code",
      "execution_count": null,
      "metadata": {
        "colab": {
          "base_uri": "https://localhost:8080/"
        },
        "id": "N422I8zTuv2-",
        "outputId": "e94b9ad2-3ca1-4f0a-fee5-cf8a4b8ac257"
      },
      "outputs": [
        {
          "name": "stdout",
          "output_type": "stream",
          "text": [
            "Looking in indexes: https://pypi.org/simple, https://us-python.pkg.dev/colab-wheels/public/simple/\n",
            "Collecting scattertext\n",
            "  Downloading scattertext-0.1.6-py3-none-any.whl (7.3 MB)\n",
            "\u001b[K     |████████████████████████████████| 7.3 MB 4.7 MB/s \n",
            "\u001b[?25hRequirement already satisfied: scikit-learn in /usr/local/lib/python3.7/dist-packages (from scattertext) (1.0.2)\n",
            "Requirement already satisfied: numpy in /usr/local/lib/python3.7/dist-packages (from scattertext) (1.21.6)\n",
            "Collecting mock\n",
            "  Downloading mock-4.0.3-py3-none-any.whl (28 kB)\n",
            "Collecting flashtext\n",
            "  Downloading flashtext-2.7.tar.gz (14 kB)\n",
            "Requirement already satisfied: scipy in /usr/local/lib/python3.7/dist-packages (from scattertext) (1.4.1)\n",
            "Requirement already satisfied: pandas in /usr/local/lib/python3.7/dist-packages (from scattertext) (1.3.5)\n",
            "Requirement already satisfied: statsmodels in /usr/local/lib/python3.7/dist-packages (from scattertext) (0.10.2)\n",
            "Requirement already satisfied: six in /usr/local/lib/python3.7/dist-packages (from scattertext) (1.15.0)\n",
            "Collecting gensim>=4.0.0\n",
            "  Downloading gensim-4.2.0-cp37-cp37m-manylinux_2_12_x86_64.manylinux2010_x86_64.whl (24.1 MB)\n",
            "\u001b[K     |████████████████████████████████| 24.1 MB 1.2 MB/s \n",
            "\u001b[?25hRequirement already satisfied: smart-open>=1.8.1 in /usr/local/lib/python3.7/dist-packages (from gensim>=4.0.0->scattertext) (5.2.1)\n",
            "Requirement already satisfied: pytz>=2017.3 in /usr/local/lib/python3.7/dist-packages (from pandas->scattertext) (2022.1)\n",
            "Requirement already satisfied: python-dateutil>=2.7.3 in /usr/local/lib/python3.7/dist-packages (from pandas->scattertext) (2.8.2)\n",
            "Requirement already satisfied: threadpoolctl>=2.0.0 in /usr/local/lib/python3.7/dist-packages (from scikit-learn->scattertext) (3.1.0)\n",
            "Requirement already satisfied: joblib>=0.11 in /usr/local/lib/python3.7/dist-packages (from scikit-learn->scattertext) (1.1.0)\n",
            "Requirement already satisfied: patsy>=0.4.0 in /usr/local/lib/python3.7/dist-packages (from statsmodels->scattertext) (0.5.2)\n",
            "Building wheels for collected packages: flashtext\n",
            "  Building wheel for flashtext (setup.py) ... \u001b[?25l\u001b[?25hdone\n",
            "  Created wheel for flashtext: filename=flashtext-2.7-py2.py3-none-any.whl size=9309 sha256=26dab0bb782495368c890109ffb76782c20f6cf12f6d94be58287825cfdea590\n",
            "  Stored in directory: /root/.cache/pip/wheels/cb/19/58/4e8fdd0009a7f89dbce3c18fff2e0d0fa201d5cdfd16f113b7\n",
            "Successfully built flashtext\n",
            "Installing collected packages: mock, gensim, flashtext, scattertext\n",
            "  Attempting uninstall: gensim\n",
            "    Found existing installation: gensim 3.6.0\n",
            "    Uninstalling gensim-3.6.0:\n",
            "      Successfully uninstalled gensim-3.6.0\n",
            "Successfully installed flashtext-2.7 gensim-4.2.0 mock-4.0.3 scattertext-0.1.6\n"
          ]
        }
      ],
      "source": [
        "#pip install scattertext"
      ]
    },
    {
      "cell_type": "code",
      "execution_count": null,
      "metadata": {
        "colab": {
          "base_uri": "https://localhost:8080/",
          "height": 1000,
          "referenced_widgets": [
            "289d7e9f3918449eb64081c1440819ce",
            "1000558089c74d69aa647d38b9bcd638",
            "b9734397c18a426a9460f1d0eaf2e293",
            "3f671a6eaccf43e0847aa66f27de96d1",
            "4f9123921c6f4739ac704836fa6d557f",
            "b466867b68544754a3b26215704e5491",
            "2ec9e99f19b14127825de52d81b07568",
            "d51f664c2fdd4e9ebb6bd7e60c5d33c8",
            "0dc2d02930d5415aad145d633ab949c6",
            "af737f25d0344f47bfdb2a1b0840a805",
            "6e9870746f6a4a93b0d9a24a19563b42",
            "52e19ba6f6b84468aee4e36ca0bbcea1",
            "3e22829a0c4e4a9fa101a625f32e464f",
            "9f9c2222ef7d4b0a8548321636700199",
            "9313303abb8d40ae96cde32bd0aaaa20",
            "e82209acb933445ab7840c154663dc7b",
            "819bd853fe44427fb39e7ecae9bce167",
            "813a7a5e39fc4755a82a921be26bd412",
            "c18f7cf1c3984836bd9a4dfedbe93a87",
            "cfcfcad6c44d4996a30eb594c6ca6300",
            "06c1741de095450389d31eedf76eb222",
            "7294d85a2e84426f974b4eda6730430f",
            "98e0971a72a944e8873da526fdff818f",
            "ffb7d8daffe5423daedf0f9c8ab2c069",
            "2fdd804e872341d9b29d8f307d318b42",
            "893b99ca7c4d4dd2856f3f2d32153358",
            "8a2c41ad67f640ad95e1f2d86d2eab1a",
            "e24dcbea1a4943dba0da43665434a9b9",
            "0c3e2ce3c6b0489993e6d73958221c1d",
            "f1d574ba29d2411485c7e641acb4dba8",
            "3d08f014f03b478fa4f883aa5a19cb34",
            "e63ef69d391741f5a67ca79f762e4f42",
            "cb75eda6136e4bc585bbf946767b4a0c",
            "74276eb7bcc042d9947e9615dc222a4b",
            "f826362a40024ee1b127eccbe270e8dd",
            "7e177a9b98b445e489f70b53f41ff6ef",
            "8b124512dd63424c8bab71a6cc49b112",
            "aacd482411b4421fb5765befa0d40b82",
            "b07b667dd0bd47d08d99feeb44a539d1",
            "b5e7e46041e84e0c960e95f2570cecff",
            "e22dc04fb560480d9a6973427fba76e7",
            "2f79b4bd1a904f69bb5b8c7b01efac40",
            "1b62a277189149828686230be5fbc7be",
            "ed9c2d6651c3406fb91a10cf0c5c9401",
            "13f3cc1583c243f19c2ed2efe8d74ce3",
            "182bf8aa8f1f4d2e8b26da063614ee86",
            "4a89e4dc9f1e462f8096d6d10e0f621c",
            "26056009d66d40fb87d0abee24d23163",
            "40dffb9e779747b3a2355ba4868c24e6",
            "d6a3838243664e129cb2a6e2d1b5a9ca",
            "5cf67e369e5c460da458f567a85f0835",
            "7786aa7e9b134984b4c434414eb75dae",
            "a9449d50b4f14a07b8d0bf4632f52150",
            "dbe7c1ae919e45cf8a839ff85f03ee03",
            "0bf15d2a67fb46c884ea454ea8419bd7"
          ]
        },
        "id": "jTaM52iFp9-A",
        "outputId": "c56351ef-4b3c-47fe-a03a-d4fab6b453e3"
      },
      "outputs": [
        {
          "output_type": "stream",
          "name": "stderr",
          "text": [
            "[nltk_data] Downloading package wordnet to /root/nltk_data...\n",
            "[nltk_data] Downloading package stopwords to /root/nltk_data...\n",
            "[nltk_data]   Unzipping corpora/stopwords.zip.\n",
            "[nltk_data] Downloading package punkt to /root/nltk_data...\n",
            "[nltk_data]   Unzipping tokenizers/punkt.zip.\n",
            "[nltk_data] Downloading package omw-1.4 to /root/nltk_data...\n"
          ]
        },
        {
          "output_type": "stream",
          "name": "stdout",
          "text": [
            "Looking in indexes: https://pypi.org/simple, https://us-python.pkg.dev/colab-wheels/public/simple/\n",
            "Collecting transformers\n",
            "  Downloading transformers-4.21.1-py3-none-any.whl (4.7 MB)\n",
            "\u001b[K     |████████████████████████████████| 4.7 MB 4.9 MB/s \n",
            "\u001b[?25hCollecting tokenizers!=0.11.3,<0.13,>=0.11.1\n",
            "  Downloading tokenizers-0.12.1-cp37-cp37m-manylinux_2_12_x86_64.manylinux2010_x86_64.whl (6.6 MB)\n",
            "\u001b[K     |████████████████████████████████| 6.6 MB 6.2 MB/s \n",
            "\u001b[?25hCollecting huggingface-hub<1.0,>=0.1.0\n",
            "  Downloading huggingface_hub-0.8.1-py3-none-any.whl (101 kB)\n",
            "\u001b[K     |████████████████████████████████| 101 kB 11.2 MB/s \n",
            "\u001b[?25hRequirement already satisfied: filelock in /usr/local/lib/python3.7/dist-packages (from transformers) (3.8.0)\n",
            "Requirement already satisfied: tqdm>=4.27 in /usr/local/lib/python3.7/dist-packages (from transformers) (4.64.0)\n",
            "Requirement already satisfied: requests in /usr/local/lib/python3.7/dist-packages (from transformers) (2.23.0)\n",
            "Requirement already satisfied: regex!=2019.12.17 in /usr/local/lib/python3.7/dist-packages (from transformers) (2022.6.2)\n",
            "Requirement already satisfied: importlib-metadata in /usr/local/lib/python3.7/dist-packages (from transformers) (4.12.0)\n",
            "Requirement already satisfied: packaging>=20.0 in /usr/local/lib/python3.7/dist-packages (from transformers) (21.3)\n",
            "Requirement already satisfied: pyyaml>=5.1 in /usr/local/lib/python3.7/dist-packages (from transformers) (6.0)\n",
            "Requirement already satisfied: numpy>=1.17 in /usr/local/lib/python3.7/dist-packages (from transformers) (1.21.6)\n",
            "Requirement already satisfied: typing-extensions>=3.7.4.3 in /usr/local/lib/python3.7/dist-packages (from huggingface-hub<1.0,>=0.1.0->transformers) (4.1.1)\n",
            "Requirement already satisfied: pyparsing!=3.0.5,>=2.0.2 in /usr/local/lib/python3.7/dist-packages (from packaging>=20.0->transformers) (3.0.9)\n",
            "Requirement already satisfied: zipp>=0.5 in /usr/local/lib/python3.7/dist-packages (from importlib-metadata->transformers) (3.8.1)\n",
            "Requirement already satisfied: urllib3!=1.25.0,!=1.25.1,<1.26,>=1.21.1 in /usr/local/lib/python3.7/dist-packages (from requests->transformers) (1.24.3)\n",
            "Requirement already satisfied: chardet<4,>=3.0.2 in /usr/local/lib/python3.7/dist-packages (from requests->transformers) (3.0.4)\n",
            "Requirement already satisfied: idna<3,>=2.5 in /usr/local/lib/python3.7/dist-packages (from requests->transformers) (2.10)\n",
            "Requirement already satisfied: certifi>=2017.4.17 in /usr/local/lib/python3.7/dist-packages (from requests->transformers) (2022.6.15)\n",
            "Installing collected packages: tokenizers, huggingface-hub, transformers\n",
            "Successfully installed huggingface-hub-0.8.1 tokenizers-0.12.1 transformers-4.21.1\n"
          ]
        },
        {
          "output_type": "display_data",
          "data": {
            "text/plain": [
              "Downloading config.json:   0%|          | 0.00/480 [00:00<?, ?B/s]"
            ],
            "application/vnd.jupyter.widget-view+json": {
              "version_major": 2,
              "version_minor": 0,
              "model_id": "289d7e9f3918449eb64081c1440819ce"
            },
            "application/json": {
              "n": 0,
              "total": 480,
              "elapsed": 0.022757768630981445,
              "ncols": null,
              "nrows": null,
              "prefix": "Downloading config.json",
              "ascii": false,
              "unit": "B",
              "unit_scale": true,
              "rate": null,
              "bar_format": null,
              "postfix": null,
              "unit_divisor": 1024,
              "initial": 0,
              "colour": null
            }
          },
          "metadata": {}
        },
        {
          "output_type": "display_data",
          "data": {
            "text/plain": [
              "Downloading pytorch_model.bin:   0%|          | 0.00/316M [00:00<?, ?B/s]"
            ],
            "application/vnd.jupyter.widget-view+json": {
              "version_major": 2,
              "version_minor": 0,
              "model_id": "52e19ba6f6b84468aee4e36ca0bbcea1"
            },
            "application/json": {
              "n": 0,
              "total": 331070498,
              "elapsed": 0.023331642150878906,
              "ncols": null,
              "nrows": null,
              "prefix": "Downloading pytorch_model.bin",
              "ascii": false,
              "unit": "B",
              "unit_scale": true,
              "rate": null,
              "bar_format": null,
              "postfix": null,
              "unit_divisor": 1024,
              "initial": 0,
              "colour": null
            }
          },
          "metadata": {}
        },
        {
          "output_type": "stream",
          "name": "stderr",
          "text": [
            "Some weights of the model checkpoint at distilroberta-base were not used when initializing RobertaModel: ['lm_head.layer_norm.weight', 'lm_head.decoder.weight', 'lm_head.dense.weight', 'lm_head.bias', 'lm_head.dense.bias', 'lm_head.layer_norm.bias']\n",
            "- This IS expected if you are initializing RobertaModel from the checkpoint of a model trained on another task or with another architecture (e.g. initializing a BertForSequenceClassification model from a BertForPreTraining model).\n",
            "- This IS NOT expected if you are initializing RobertaModel from the checkpoint of a model that you expect to be exactly identical (initializing a BertForSequenceClassification model from a BertForSequenceClassification model).\n"
          ]
        },
        {
          "output_type": "display_data",
          "data": {
            "text/plain": [
              "Downloading vocab.json:   0%|          | 0.00/878k [00:00<?, ?B/s]"
            ],
            "application/vnd.jupyter.widget-view+json": {
              "version_major": 2,
              "version_minor": 0,
              "model_id": "98e0971a72a944e8873da526fdff818f"
            },
            "application/json": {
              "n": 0,
              "total": 898823,
              "elapsed": 0.0475461483001709,
              "ncols": null,
              "nrows": null,
              "prefix": "Downloading vocab.json",
              "ascii": false,
              "unit": "B",
              "unit_scale": true,
              "rate": null,
              "bar_format": null,
              "postfix": null,
              "unit_divisor": 1024,
              "initial": 0,
              "colour": null
            }
          },
          "metadata": {}
        },
        {
          "output_type": "display_data",
          "data": {
            "text/plain": [
              "Downloading merges.txt:   0%|          | 0.00/446k [00:00<?, ?B/s]"
            ],
            "application/vnd.jupyter.widget-view+json": {
              "version_major": 2,
              "version_minor": 0,
              "model_id": "74276eb7bcc042d9947e9615dc222a4b"
            },
            "application/json": {
              "n": 0,
              "total": 456318,
              "elapsed": 0.030427932739257812,
              "ncols": null,
              "nrows": null,
              "prefix": "Downloading merges.txt",
              "ascii": false,
              "unit": "B",
              "unit_scale": true,
              "rate": null,
              "bar_format": null,
              "postfix": null,
              "unit_divisor": 1024,
              "initial": 0,
              "colour": null
            }
          },
          "metadata": {}
        },
        {
          "output_type": "display_data",
          "data": {
            "text/plain": [
              "Downloading tokenizer.json:   0%|          | 0.00/1.29M [00:00<?, ?B/s]"
            ],
            "application/vnd.jupyter.widget-view+json": {
              "version_major": 2,
              "version_minor": 0,
              "model_id": "13f3cc1583c243f19c2ed2efe8d74ce3"
            },
            "application/json": {
              "n": 0,
              "total": 1355863,
              "elapsed": 0.022209644317626953,
              "ncols": null,
              "nrows": null,
              "prefix": "Downloading tokenizer.json",
              "ascii": false,
              "unit": "B",
              "unit_scale": true,
              "rate": null,
              "bar_format": null,
              "postfix": null,
              "unit_divisor": 1024,
              "initial": 0,
              "colour": null
            }
          },
          "metadata": {}
        },
        {
          "output_type": "stream",
          "name": "stdout",
          "text": [
            "Looking in indexes: https://pypi.org/simple, https://us-python.pkg.dev/colab-wheels/public/simple/\n",
            "Collecting yake\n",
            "  Downloading yake-0.4.8-py2.py3-none-any.whl (60 kB)\n",
            "\u001b[K     |████████████████████████████████| 60 kB 3.2 MB/s \n",
            "\u001b[?25hRequirement already satisfied: tabulate in /usr/local/lib/python3.7/dist-packages (from yake) (0.8.10)\n",
            "Collecting segtok\n",
            "  Downloading segtok-1.5.11-py3-none-any.whl (24 kB)\n",
            "Requirement already satisfied: click>=6.0 in /usr/local/lib/python3.7/dist-packages (from yake) (7.1.2)\n",
            "Collecting jellyfish\n",
            "  Downloading jellyfish-0.9.0.tar.gz (132 kB)\n",
            "\u001b[K     |████████████████████████████████| 132 kB 11.2 MB/s \n",
            "\u001b[?25hRequirement already satisfied: numpy in /usr/local/lib/python3.7/dist-packages (from yake) (1.21.6)\n",
            "Requirement already satisfied: networkx in /usr/local/lib/python3.7/dist-packages (from yake) (2.6.3)\n",
            "Requirement already satisfied: regex in /usr/local/lib/python3.7/dist-packages (from segtok->yake) (2022.6.2)\n",
            "Building wheels for collected packages: jellyfish\n",
            "  Building wheel for jellyfish (setup.py) ... \u001b[?25l\u001b[?25hdone\n",
            "  Created wheel for jellyfish: filename=jellyfish-0.9.0-cp37-cp37m-linux_x86_64.whl size=73988 sha256=3cb7cdf48e882cfe8b40d4c0eb8727cf1d122182ae155a0a657d5b3eb4db434f\n",
            "  Stored in directory: /root/.cache/pip/wheels/fe/99/4e/646ce766df0d070b0ef04db27aa11543e2767fda3075aec31b\n",
            "Successfully built jellyfish\n",
            "Installing collected packages: segtok, jellyfish, yake\n",
            "Successfully installed jellyfish-0.9.0 segtok-1.5.11 yake-0.4.8\n"
          ]
        }
      ],
      "source": [
        "import numpy as np\n",
        "import pandas as pd\n",
        "import os\n",
        "import io\n",
        "\n",
        "import re\n",
        "import string\n",
        "import csv\n",
        "from string import punctuation\n",
        "\n",
        "import matplotlib.pyplot as plt\n",
        "import seaborn as sns\n",
        "from wordcloud import WordCloud, STOPWORDS \n",
        "\n",
        "import nltk\n",
        "from nltk.stem import WordNetLemmatizer\n",
        "from nltk.corpus import stopwords\n",
        "from nltk.tokenize import word_tokenize\n",
        "nltk.download('wordnet')\n",
        "nltk.download('stopwords')\n",
        "nltk.download('punkt')\n",
        "nltk.download('omw-1.4')\n",
        "\n",
        "import spacy\n",
        "nlp = spacy.load('en_core_web_sm')\n",
        "\n",
        "import yellowbrick\n",
        "\n",
        "from yellowbrick.text import FreqDistVisualizer\n",
        "from yellowbrick.text import TSNEVisualizer\n",
        "from yellowbrick.text import freqdist\n",
        "from sklearn.feature_extraction.text import TfidfVectorizer\n",
        "from sklearn.feature_extraction.text import CountVectorizer\n",
        "from sklearn.feature_extraction import text \n",
        "from sklearn.metrics.pairwise import cosine_similarity\n",
        "\n",
        "from tqdm import tqdm\n",
        "\n",
        "!pip install transformers\n",
        "from transformers import AutoModel, AutoTokenizer\n",
        "model_name = \"distilroberta-base\"\n",
        "pt_model = AutoModel.from_pretrained(model_name)\n",
        "tokenizer = AutoTokenizer.from_pretrained(model_name)\n",
        "\n",
        "!pip install yake\n",
        "import yake\n",
        "\n",
        "import warnings\n",
        "warnings.simplefilter(\"ignore\", DeprecationWarning)"
      ]
    },
    {
      "cell_type": "code",
      "execution_count": null,
      "metadata": {
        "colab": {
          "base_uri": "https://localhost:8080/"
        },
        "id": "a0A40CIipGSO",
        "outputId": "d5747eb3-3fa4-42c7-842c-64deef76205f"
      },
      "outputs": [
        {
          "output_type": "stream",
          "name": "stdout",
          "text": [
            "Drive already mounted at /content/drive; to attempt to forcibly remount, call drive.mount(\"/content/drive\", force_remount=True).\n"
          ]
        }
      ],
      "source": [
        "from google.colab import drive\n",
        "drive.mount('/content/drive')"
      ]
    },
    {
      "cell_type": "code",
      "execution_count": null,
      "metadata": {
        "id": "C18XuCktpf8x"
      },
      "outputs": [],
      "source": [
        "# Change the current working directory to specified path\n",
        "os.chdir('drive/My Drive/Colab Notebooks/Data-Source/Auto_Text_Summarization/')"
      ]
    },
    {
      "cell_type": "code",
      "execution_count": null,
      "metadata": {
        "colab": {
          "base_uri": "https://localhost:8080/"
        },
        "id": "GA_87sLUqij3",
        "outputId": "56589354-dd72-4804-b9f3-f9671b4c7d80"
      },
      "outputs": [
        {
          "output_type": "stream",
          "name": "stderr",
          "text": [
            "/usr/local/lib/python3.7/dist-packages/IPython/core/interactiveshell.py:3326: FutureWarning: The error_bad_lines argument has been deprecated and will be removed in a future version.\n",
            "\n",
            "\n",
            "  exec(code_obj, self.user_global_ns, self.user_ns)\n",
            "Skipping line 148969: unexpected end of data\n"
          ]
        },
        {
          "output_type": "stream",
          "name": "stdout",
          "text": [
            "(148967, 3)\n",
            "                                         id  \\\n",
            "0  0001d1afc246a7964130f43ae940af6bc6c57f01   \n",
            "1  0002095e55fcbd3a2f366d9bf92a95433dc305ef   \n",
            "2  00027e965c8264c35cc1bc55556db388da82b07f   \n",
            "3  0002c17436637c4fe1837c935c04de47adb18e9a   \n",
            "4  0003ad6ef0c37534f80b55b4235108024b407f0b   \n",
            "\n",
            "                                             article  \\\n",
            "0  By . Associated Press . PUBLISHED: . 14:11 EST...   \n",
            "1  (CNN) -- Ralph Mata was an internal affairs li...   \n",
            "2  A drunk driver who killed a young woman in a h...   \n",
            "3  (CNN) -- With a breezy sweep of his pen Presid...   \n",
            "4  Fleetwood are the only team still to have a 10...   \n",
            "\n",
            "                                          highlights  \n",
            "0  Bishop John Folda, of North Dakota, is taking ...  \n",
            "1  Criminal complaint: Cop used his role to help ...  \n",
            "2  Craig Eccleston-Todd, 27, had drunk at least t...  \n",
            "3  Nina dos Santos says Europe must be ready to a...  \n",
            "4  Fleetwood top of League One after 2-0 win at S...  \n",
            "(11490, 3)\n",
            "                                         id  \\\n",
            "0  92c514c913c0bdfe25341af9fd72b29db544099b   \n",
            "1  2003841c7dc0e7c5b1a248f9cd536d727f27a45a   \n",
            "2  91b7d2311527f5c2b63a65ca98d21d9c92485149   \n",
            "3  caabf9cbdf96eb1410295a673e953d304391bfbb   \n",
            "4  3da746a7d9afcaa659088c8366ef6347fe6b53ea   \n",
            "\n",
            "                                             article  \\\n",
            "0  Ever noticed how plane seats appear to be gett...   \n",
            "1  A drunk teenage boy had to be rescued by secur...   \n",
            "2  Dougie Freedman is on the verge of agreeing a ...   \n",
            "3  Liverpool target Neto is also wanted by PSG an...   \n",
            "4  Bruce Jenner will break his silence in a two-h...   \n",
            "\n",
            "                                          highlights  \n",
            "0  Experts question if  packed out planes are put...  \n",
            "1  Drunk teenage boy climbed into lion enclosure ...  \n",
            "2  Nottingham Forest are close to extending Dougi...  \n",
            "3  Fiorentina goalkeeper Neto has been linked wit...  \n",
            "4  Tell-all interview with the reality TV star, 6...  \n"
          ]
        }
      ],
      "source": [
        "dfTrain = pd.read_csv('train.csv', error_bad_lines = False, engine = \"python\")\n",
        "dfTest = pd.read_csv('test.csv')\n",
        "\n",
        "print(dfTrain.shape)\n",
        "print(dfTrain.head())\n",
        "\n",
        "print(dfTest.shape)\n",
        "print(dfTest.head())"
      ]
    },
    {
      "cell_type": "code",
      "execution_count": null,
      "metadata": {
        "id": "Je5yFyr5yxy5"
      },
      "outputs": [],
      "source": [
        "contractions = { \n",
        "\"ain't\": \"am not\",\n",
        "\"aren't\": \"are not\",\n",
        "\"can't\": \"cannot\",\n",
        "\"can't've\": \"cannot have\",\n",
        "\"'cause\": \"because\",\n",
        "\"could've\": \"could have\",\n",
        "\"couldn't\": \"could not\",\n",
        "\"couldn't've\": \"could not have\",\n",
        "\"didn't\": \"did not\",\n",
        "\"doesn't\": \"does not\",\n",
        "\"don't\": \"do not\",\n",
        "\"hadn't\": \"had not\",\n",
        "\"hadn't've\": \"had not have\",\n",
        "\"hasn't\": \"has not\",\n",
        "\"haven't\": \"have not\",\n",
        "\"he'd\": \"he would\",\n",
        "\"he'd've\": \"he would have\",\n",
        "\"he'll\": \"he will\",\n",
        "\"he's\": \"he is\",\n",
        "\"how'd\": \"how did\",\n",
        "\"how'll\": \"how will\",\n",
        "\"how's\": \"how is\",\n",
        "\"i'd\": \"i would\",\n",
        "\"i'll\": \"i will\",\n",
        "\"i'm\": \"i am\",\n",
        "\"i've\": \"i have\",\n",
        "\"isn't\": \"is not\",\n",
        "\"it'd\": \"it would\",\n",
        "\"it'll\": \"it will\",\n",
        "\"it's\": \"it is\",\n",
        "\"let's\": \"let us\",\n",
        "\"ma'am\": \"madam\",\n",
        "\"mayn't\": \"may not\",\n",
        "\"might've\": \"might have\",\n",
        "\"mightn't\": \"might not\",\n",
        "\"must've\": \"must have\",\n",
        "\"mustn't\": \"must not\",\n",
        "\"needn't\": \"need not\",\n",
        "\"oughtn't\": \"ought not\",\n",
        "\"shan't\": \"shall not\",\n",
        "\"sha'n't\": \"shall not\",\n",
        "\"she'd\": \"she would\",\n",
        "\"she'll\": \"she will\",\n",
        "\"she's\": \"she is\",\n",
        "\"should've\": \"should have\",\n",
        "\"shouldn't\": \"should not\",\n",
        "\"that'd\": \"that would\",\n",
        "\"that's\": \"that is\",\n",
        "\"there'd\": \"there had\",\n",
        "\"there's\": \"there is\",\n",
        "\"they'd\": \"they would\",\n",
        "\"they'll\": \"they will\",\n",
        "\"they're\": \"they are\",\n",
        "\"they've\": \"they have\",\n",
        "\"wasn't\": \"was not\",\n",
        "\"we'd\": \"we would\",\n",
        "\"we'll\": \"we will\",\n",
        "\"we're\": \"we are\",\n",
        "\"we've\": \"we have\",\n",
        "\"weren't\": \"were not\",\n",
        "\"what'll\": \"what will\",\n",
        "\"what're\": \"what are\",\n",
        "\"what's\": \"what is\",\n",
        "\"what've\": \"what have\",\n",
        "\"where'd\": \"where did\",\n",
        "\"where's\": \"where is\",\n",
        "\"who'll\": \"who will\",\n",
        "\"who's\": \"who is\",\n",
        "\"won't\": \"will not\",\n",
        "\"wouldn't\": \"would not\",\n",
        "\"you'd\": \"you would\",\n",
        "\"you'll\": \"you will\",\n",
        "\"you're\": \"you are\"\n",
        "}"
      ]
    },
    {
      "cell_type": "code",
      "execution_count": null,
      "metadata": {
        "id": "wzG1EXcDzC86"
      },
      "outputs": [],
      "source": [
        "def clean_text(txt, remove_stopwords=True):\n",
        "    txt = txt.lower()\n",
        "    txt = txt.split()\n",
        "    tmp = []\n",
        "    for word in txt:\n",
        "        if word in contractions:\n",
        "            tmp.append(contractions[word])\n",
        "        else:\n",
        "            tmp.append(word)\n",
        "    txt = ' '.join(tmp)\n",
        "    \n",
        "    txt = re.sub(r'https?:\\/\\/.*[\\r\\n]*', '', txt, flags=re.MULTILINE)\n",
        "    txt = re.sub(r'\\<a href', ' ', txt)\n",
        "    txt = re.sub(r'&amp;', '', txt) \n",
        "    txt = re.sub(r'[_\"\\-;%()|+&=*%.,!?:#$@\\[\\]/]', ' ', txt)\n",
        "    txt = re.sub(r'<br />', ' ', txt)\n",
        "    txt = re.sub(r'\\'', ' ', txt)\n",
        "\n",
        "    if remove_stopwords:\n",
        "      txt = txt.split()\n",
        "      stops = set(stopwords.words('english'))\n",
        "      txt = [w for w in txt if w not in stops]\n",
        "      txt = ' '.join(txt)\n",
        "        \n",
        "    return txt"
      ]
    },
    {
      "cell_type": "code",
      "execution_count": null,
      "metadata": {
        "id": "zIMR4TEFHl_t"
      },
      "outputs": [],
      "source": [
        "# initialize the lemmatizer\n",
        "lemmatizer = WordNetLemmatizer()"
      ]
    },
    {
      "cell_type": "code",
      "execution_count": null,
      "metadata": {
        "id": "wZlKwoJkHoV0"
      },
      "outputs": [],
      "source": [
        "def lemma_text(txt, remove_stopwords=True):      \n",
        "    txt = clean_text(txt, remove_stopwords)  \n",
        "    # here token length less than 3 characters is not considered as Noun\n",
        "    sent = [lemmatizer.lemmatize(word, pos='n') for word in word_tokenize(txt) if len(word) > 2 and not word in set(stopwords.words('english'))]\n",
        "    return \" \".join(sent)"
      ]
    },
    {
      "cell_type": "code",
      "execution_count": null,
      "metadata": {
        "colab": {
          "base_uri": "https://localhost:8080/"
        },
        "id": "X4Cfp6I5zxON",
        "outputId": "eb037707-973e-48a2-a34f-5279f501813b"
      },
      "outputs": [
        {
          "metadata": {
            "tags": null
          },
          "name": "stderr",
          "output_type": "stream",
          "text": [
            "Progress Bar Highlights...: 100%|██████████| 148967/148967 [15:17<00:00, 162.42it/s]\n"
          ]
        },
        {
          "metadata": {
            "tags": null
          },
          "name": "stdout",
          "output_type": "stream",
          "text": [
            "Cleaning Summaries Complete\n"
          ]
        },
        {
          "output_type": "stream",
          "name": "stderr",
          "text": [
            "Progress Bar Article...: 100%|██████████| 148967/148967 [2:13:25<00:00, 18.61it/s]"
          ]
        },
        {
          "output_type": "stream",
          "name": "stdout",
          "text": [
            "Cleaning Texts Complete\n"
          ]
        },
        {
          "output_type": "stream",
          "name": "stderr",
          "text": [
            "\n"
          ]
        }
      ],
      "source": [
        "clean_summaries = []\n",
        "for summary in tqdm(dfTrain.highlights, desc=\"Progress Bar Highlights...\"):\n",
        "    clean_summaries.append(lemma_text(summary, remove_stopwords=False))\n",
        "print('Cleaning Summaries Complete')\n",
        "    \n",
        "clean_texts = []\n",
        "for inputTxt in tqdm(dfTrain.article, desc=\"Progress Bar Article...\"):\n",
        "    clean_texts.append(lemma_text(inputTxt))\n",
        "print('Cleaning Texts Complete')"
      ]
    },
    {
      "cell_type": "code",
      "execution_count": null,
      "metadata": {
        "colab": {
          "base_uri": "https://localhost:8080/"
        },
        "id": "KPIJzBSI1Yck",
        "outputId": "1e38d365-d3a9-452a-a33f-511835b96c89"
      },
      "outputs": [
        {
          "output_type": "stream",
          "name": "stdout",
          "text": [
            "The DataFrame \n",
            "                                                  article  \\\n",
            "0       associated press published est october 2013 up...   \n",
            "1       cnn ralph mata internal affair lieutenant miam...   \n",
            "2       drunk driver killed young woman head crash che...   \n",
            "3       cnn breezy sweep pen president vladimir putin ...   \n",
            "4       fleetwood team still 100 record sky bet league...   \n",
            "...                                                   ...   \n",
            "148962  cnn missile launch component moved east coast ...   \n",
            "148963  james nye published est september 2012 updated...   \n",
            "148964  stunned homeowner filmed setting fire highly f...   \n",
            "148965  beth stebner published est july 2012 updated e...   \n",
            "148966  arm aloft syrian fighter celebrate moment noto...   \n",
            "\n",
            "                                                  summary  \n",
            "0       bishop john folda north dakota taking time dia...  \n",
            "1       criminal complaint cop used role help cocaine ...  \n",
            "2       craig eccleston todd drunk least three pint dr...  \n",
            "3       nina do santos say europe must ready accept sa...  \n",
            "4       fleetwood top league one win scunthorpe peterb...  \n",
            "...                                                   ...  \n",
            "148962  first cnn communication intercept suggest poss...  \n",
            "148963  four boy aged year old found guilty gang rapin...  \n",
            "148964  jacob haughney north dakota saw flame erupting...  \n",
            "148965  president obama make annual trip martha vineya...  \n",
            "148966  local fighter marked victory raising symbolic ...  \n",
            "\n",
            "[148967 rows x 2 columns]\n"
          ]
        }
      ],
      "source": [
        "d = {\"article\": clean_texts, \"summary\": clean_summaries}\n",
        "clean_df = pd.DataFrame(d)\n",
        "print(\"The DataFrame \")\n",
        "print(clean_df)"
      ]
    },
    {
      "cell_type": "code",
      "execution_count": null,
      "metadata": {
        "colab": {
          "base_uri": "https://localhost:8080/",
          "height": 206
        },
        "id": "5L5u9ViR15P0",
        "outputId": "a6d221b4-d5a2-43f6-f909-35b2240de24a"
      },
      "outputs": [
        {
          "output_type": "execute_result",
          "data": {
            "text/plain": [
              "                                             article  \\\n",
              "0  associated press published est october 2013 up...   \n",
              "1  cnn ralph mata internal affair lieutenant miam...   \n",
              "2  drunk driver killed young woman head crash che...   \n",
              "3  cnn breezy sweep pen president vladimir putin ...   \n",
              "4  fleetwood team still 100 record sky bet league...   \n",
              "\n",
              "                                             summary  \n",
              "0  bishop john folda north dakota taking time dia...  \n",
              "1  criminal complaint cop used role help cocaine ...  \n",
              "2  craig eccleston todd drunk least three pint dr...  \n",
              "3  nina do santos say europe must ready accept sa...  \n",
              "4  fleetwood top league one win scunthorpe peterb...  "
            ],
            "text/html": [
              "\n",
              "  <div id=\"df-8ad7df17-7f72-4a13-92e2-a9362ab8af67\">\n",
              "    <div class=\"colab-df-container\">\n",
              "      <div>\n",
              "<style scoped>\n",
              "    .dataframe tbody tr th:only-of-type {\n",
              "        vertical-align: middle;\n",
              "    }\n",
              "\n",
              "    .dataframe tbody tr th {\n",
              "        vertical-align: top;\n",
              "    }\n",
              "\n",
              "    .dataframe thead th {\n",
              "        text-align: right;\n",
              "    }\n",
              "</style>\n",
              "<table border=\"1\" class=\"dataframe\">\n",
              "  <thead>\n",
              "    <tr style=\"text-align: right;\">\n",
              "      <th></th>\n",
              "      <th>article</th>\n",
              "      <th>summary</th>\n",
              "    </tr>\n",
              "  </thead>\n",
              "  <tbody>\n",
              "    <tr>\n",
              "      <th>0</th>\n",
              "      <td>associated press published est october 2013 up...</td>\n",
              "      <td>bishop john folda north dakota taking time dia...</td>\n",
              "    </tr>\n",
              "    <tr>\n",
              "      <th>1</th>\n",
              "      <td>cnn ralph mata internal affair lieutenant miam...</td>\n",
              "      <td>criminal complaint cop used role help cocaine ...</td>\n",
              "    </tr>\n",
              "    <tr>\n",
              "      <th>2</th>\n",
              "      <td>drunk driver killed young woman head crash che...</td>\n",
              "      <td>craig eccleston todd drunk least three pint dr...</td>\n",
              "    </tr>\n",
              "    <tr>\n",
              "      <th>3</th>\n",
              "      <td>cnn breezy sweep pen president vladimir putin ...</td>\n",
              "      <td>nina do santos say europe must ready accept sa...</td>\n",
              "    </tr>\n",
              "    <tr>\n",
              "      <th>4</th>\n",
              "      <td>fleetwood team still 100 record sky bet league...</td>\n",
              "      <td>fleetwood top league one win scunthorpe peterb...</td>\n",
              "    </tr>\n",
              "  </tbody>\n",
              "</table>\n",
              "</div>\n",
              "      <button class=\"colab-df-convert\" onclick=\"convertToInteractive('df-8ad7df17-7f72-4a13-92e2-a9362ab8af67')\"\n",
              "              title=\"Convert this dataframe to an interactive table.\"\n",
              "              style=\"display:none;\">\n",
              "        \n",
              "  <svg xmlns=\"http://www.w3.org/2000/svg\" height=\"24px\"viewBox=\"0 0 24 24\"\n",
              "       width=\"24px\">\n",
              "    <path d=\"M0 0h24v24H0V0z\" fill=\"none\"/>\n",
              "    <path d=\"M18.56 5.44l.94 2.06.94-2.06 2.06-.94-2.06-.94-.94-2.06-.94 2.06-2.06.94zm-11 1L8.5 8.5l.94-2.06 2.06-.94-2.06-.94L8.5 2.5l-.94 2.06-2.06.94zm10 10l.94 2.06.94-2.06 2.06-.94-2.06-.94-.94-2.06-.94 2.06-2.06.94z\"/><path d=\"M17.41 7.96l-1.37-1.37c-.4-.4-.92-.59-1.43-.59-.52 0-1.04.2-1.43.59L10.3 9.45l-7.72 7.72c-.78.78-.78 2.05 0 2.83L4 21.41c.39.39.9.59 1.41.59.51 0 1.02-.2 1.41-.59l7.78-7.78 2.81-2.81c.8-.78.8-2.07 0-2.86zM5.41 20L4 18.59l7.72-7.72 1.47 1.35L5.41 20z\"/>\n",
              "  </svg>\n",
              "      </button>\n",
              "      \n",
              "  <style>\n",
              "    .colab-df-container {\n",
              "      display:flex;\n",
              "      flex-wrap:wrap;\n",
              "      gap: 12px;\n",
              "    }\n",
              "\n",
              "    .colab-df-convert {\n",
              "      background-color: #E8F0FE;\n",
              "      border: none;\n",
              "      border-radius: 50%;\n",
              "      cursor: pointer;\n",
              "      display: none;\n",
              "      fill: #1967D2;\n",
              "      height: 32px;\n",
              "      padding: 0 0 0 0;\n",
              "      width: 32px;\n",
              "    }\n",
              "\n",
              "    .colab-df-convert:hover {\n",
              "      background-color: #E2EBFA;\n",
              "      box-shadow: 0px 1px 2px rgba(60, 64, 67, 0.3), 0px 1px 3px 1px rgba(60, 64, 67, 0.15);\n",
              "      fill: #174EA6;\n",
              "    }\n",
              "\n",
              "    [theme=dark] .colab-df-convert {\n",
              "      background-color: #3B4455;\n",
              "      fill: #D2E3FC;\n",
              "    }\n",
              "\n",
              "    [theme=dark] .colab-df-convert:hover {\n",
              "      background-color: #434B5C;\n",
              "      box-shadow: 0px 1px 3px 1px rgba(0, 0, 0, 0.15);\n",
              "      filter: drop-shadow(0px 1px 2px rgba(0, 0, 0, 0.3));\n",
              "      fill: #FFFFFF;\n",
              "    }\n",
              "  </style>\n",
              "\n",
              "      <script>\n",
              "        const buttonEl =\n",
              "          document.querySelector('#df-8ad7df17-7f72-4a13-92e2-a9362ab8af67 button.colab-df-convert');\n",
              "        buttonEl.style.display =\n",
              "          google.colab.kernel.accessAllowed ? 'block' : 'none';\n",
              "\n",
              "        async function convertToInteractive(key) {\n",
              "          const element = document.querySelector('#df-8ad7df17-7f72-4a13-92e2-a9362ab8af67');\n",
              "          const dataTable =\n",
              "            await google.colab.kernel.invokeFunction('convertToInteractive',\n",
              "                                                     [key], {});\n",
              "          if (!dataTable) return;\n",
              "\n",
              "          const docLinkHtml = 'Like what you see? Visit the ' +\n",
              "            '<a target=\"_blank\" href=https://colab.research.google.com/notebooks/data_table.ipynb>data table notebook</a>'\n",
              "            + ' to learn more about interactive tables.';\n",
              "          element.innerHTML = '';\n",
              "          dataTable['output_type'] = 'display_data';\n",
              "          await google.colab.output.renderOutput(dataTable, element);\n",
              "          const docLink = document.createElement('div');\n",
              "          docLink.innerHTML = docLinkHtml;\n",
              "          element.appendChild(docLink);\n",
              "        }\n",
              "      </script>\n",
              "    </div>\n",
              "  </div>\n",
              "  "
            ]
          },
          "metadata": {},
          "execution_count": 11
        }
      ],
      "source": [
        "clean_df.head()"
      ]
    },
    {
      "cell_type": "code",
      "execution_count": null,
      "metadata": {
        "id": "796ApnVNKHUJ"
      },
      "outputs": [],
      "source": [
        "# Saving into disc for future use\n",
        "clean_df.to_csv('clean_train.csv', index=False)"
      ]
    },
    {
      "cell_type": "code",
      "source": [
        "clean_df_ori = clean_df.copy()\n",
        "clean_df_ori.shape"
      ],
      "metadata": {
        "colab": {
          "base_uri": "https://localhost:8080/"
        },
        "id": "CXScLiw24kca",
        "outputId": "709aa24b-bb2d-45f6-f7f6-7f4152dea4b1"
      },
      "execution_count": null,
      "outputs": [
        {
          "output_type": "execute_result",
          "data": {
            "text/plain": [
              "(148967, 2)"
            ]
          },
          "metadata": {},
          "execution_count": 14
        }
      ]
    },
    {
      "cell_type": "markdown",
      "source": [
        "# Read the cleaned file which was created from the training dataset"
      ],
      "metadata": {
        "id": "s7fPTMUiAGJM"
      }
    },
    {
      "cell_type": "code",
      "source": [
        "clean_df = pd.read_csv('clean_train.csv')\n",
        "\n",
        "print(clean_df.shape)\n",
        "print(clean_df.head())"
      ],
      "metadata": {
        "colab": {
          "base_uri": "https://localhost:8080/"
        },
        "id": "N_3GkgF0f4v3",
        "outputId": "b21f9fbc-6e5c-4cc3-872e-84d0ec61cc5f"
      },
      "execution_count": null,
      "outputs": [
        {
          "output_type": "stream",
          "name": "stdout",
          "text": [
            "(148967, 2)\n",
            "                                             article  \\\n",
            "0  associated press published est october 2013 up...   \n",
            "1  cnn ralph mata internal affair lieutenant miam...   \n",
            "2  drunk driver killed young woman head crash che...   \n",
            "3  cnn breezy sweep pen president vladimir putin ...   \n",
            "4  fleetwood team still 100 record sky bet league...   \n",
            "\n",
            "                                             summary  \n",
            "0  bishop john folda north dakota taking time dia...  \n",
            "1  criminal complaint cop used role help cocaine ...  \n",
            "2  craig eccleston todd drunk least three pint dr...  \n",
            "3  nina do santos say europe must ready accept sa...  \n",
            "4  fleetwood top league one win scunthorpe peterb...  \n"
          ]
        }
      ]
    },
    {
      "cell_type": "code",
      "execution_count": null,
      "metadata": {
        "colab": {
          "base_uri": "https://localhost:8080/"
        },
        "id": "E5-NoX8hh7it",
        "outputId": "634f506f-936a-4bbc-d6b0-d30943567991"
      },
      "outputs": [
        {
          "output_type": "stream",
          "name": "stdout",
          "text": [
            "frozenset({'i', 'whereafter', 'however', 'keep', 'part', 'there', 'sometimes', 'few', 'yourselves', 'fifty', 'whereas', 'almost', 'enough', 'it', 'detail', 'side', 'then', 'only', 'by', 'thin', 'four', 'may', 'but', 're', 'every', 'found', 'others', 'sincere', 'perhaps', 'etc', 'could', 'often', 'un', 'whoever', 'my', 'ltd', 'anywhere', 'everywhere', 'will', 'our', 'anything', 'describe', 'eleven', 'also', 'hence', 'twelve', 'serious', 'not', 'indeed', 'see', 'else', 'might', 'been', 'how', 'than', 'cannot', 'whether', 'fire', 'myself', 'bill', 'here', 'done', 'due', 'everyone', 'therein', 'cant', 'his', 'is', 'all', 'which', 'up', 'back', 'thereafter', 'herself', 'latter', 'him', 'except', 'mill', 'put', 'across', 'bottom', 'said', 'before', 'five', 'former', 'amongst', 'out', 'hers', 'are', 'through', 'three', 'more', 'me', 'that', 'where', 'each', 'being', 'something', 'the', 'one', 'on', 'mostly', 'interest', 'towards', 'per', 'without', 'first', 'please', 'together', 'eight', 'since', 'any', 'seems', 'those', 'although', 'everything', 'therefore', 'hereupon', 'much', 'against', 'we', 'her', 'very', 'wherever', 'until', 'below', 'within', 'seem', 'to', 'via', 'why', 'other', 'as', 'if', 'take', 'beside', 'top', 'formerly', 'well', 'such', 'moreover', 'anyone', 'of', 'she', 'because', 'they', 'rather', 'yet', 'whenever', 'beforehand', 'last', 'next', 'be', 'ourselves', 'find', 'around', 'becoming', 'whole', 'do', 'at', 'after', 'both', 'many', 'in', 'co', 'none', 'thru', 'alone', 'still', 'thereupon', 'call', 'never', 'has', 'either', 'some', 'another', 'nowhere', 'have', 'forty', 'into', 'thence', 'themselves', 'already', 'along', 'and', 'its', 'throughout', 'thus', 'become', 'seeming', 'six', 'this', 'made', 'your', 'less', 'who', 'latterly', 'became', 'thick', 'sixty', 'hereafter', 'hereby', 'whatever', 'besides', 'under', 'inc', 'amount', 'empty', 'show', 'anyway', 'would', 'now', 'several', 'amoungst', 'behind', 'same', 'should', 'eg', 'had', 'mine', 'afterwards', 'was', 'cry', 'third', 'namely', 'herein', 'front', 'were', 'he', 'two', 'thereby', 'give', 'twenty', 'hasnt', 'an', 'couldnt', 'during', 'whose', 'hundred', 'fill', 'somewhere', 'whence', 'system', 'toward', 'con', 'wherein', 'further', 'meanwhile', 'nor', 'ten', 'am', 'though', 'becomes', 'nothing', 'ie', 'go', 'nobody', 'can', 'among', 'own', 'what', 'or', 'always', 'when', 'from', 'sometime', 'a', 'down', 'their', 'even', 'himself', 'elsewhere', 'noone', 'neither', 'them', 'whom', 'nine', 'us', 'upon', 'no', 'seemed', 'with', 'must', 'itself', 'move', 'nevertheless', 'full', 'once', 'again', 'off', 'anyhow', 'beyond', 'you', 'get', 'these', 'otherwise', 'ours', 'whereby', 'somehow', 'too', 'about', 'most', 'onto', 'above', 'name', 'whereupon', 'yours', 'over', 'yourself', 'fifteen', 'someone', 'while', 'ever', 'de', 'least', 'between', 'whither', 'for', 'so'})\n"
          ]
        }
      ],
      "source": [
        "stop_words2 = text.ENGLISH_STOP_WORDS.union(['said'])\n",
        "print(stop_words2)"
      ]
    },
    {
      "cell_type": "code",
      "execution_count": null,
      "metadata": {
        "colab": {
          "base_uri": "https://localhost:8080/",
          "height": 513
        },
        "id": "ia_Hfk6ohJ_E",
        "outputId": "34a6a1f5-41dd-4478-9ccd-d180ff7abc1f"
      },
      "outputs": [
        {
          "output_type": "stream",
          "name": "stderr",
          "text": [
            "/usr/local/lib/python3.7/dist-packages/sklearn/utils/deprecation.py:87: FutureWarning: Function get_feature_names is deprecated; get_feature_names is deprecated in 1.0 and will be removed in 1.2. Please use get_feature_names_out instead.\n",
            "  warnings.warn(msg, category=FutureWarning)\n"
          ]
        },
        {
          "output_type": "display_data",
          "data": {
            "text/plain": [
              "<Figure size 1440x720 with 1 Axes>"
            ],
            "image/png": "[encoded data removed]"
          },
          "metadata": {}
        },
        {
          "output_type": "execute_result",
          "data": {
            "text/plain": [
              "<matplotlib.axes._subplots.AxesSubplot at 0x7fd1062c6f10>"
            ]
          },
          "metadata": {},
          "execution_count": 17
        }
      ],
      "source": [
        "vectorizer = CountVectorizer(stop_words=stop_words2)\n",
        "docs = vectorizer.fit_transform(clean_df.article)\n",
        "features = vectorizer.get_feature_names()\n",
        "plt.figure(figsize=(20,10))\n",
        "visualizer = FreqDistVisualizer(features=features)\n",
        "visualizer.fit(docs)\n",
        "visualizer.poof()\n",
        "#freqdist(features, docs, orient='v')"
      ]
    },
    {
      "cell_type": "code",
      "execution_count": null,
      "metadata": {
        "colab": {
          "base_uri": "https://localhost:8080/"
        },
        "id": "Lt4FFlcCScMK",
        "outputId": "bc0d27c8-822c-4ff7-c754-fe6652785470"
      },
      "outputs": [
        {
          "output_type": "stream",
          "name": "stdout",
          "text": [
            "4783\n",
            "2007\n"
          ]
        }
      ],
      "source": [
        "#set paths for sentiment lexicons\n",
        "negfile = 'negative-words.txt'\n",
        "posfile = 'positive-words.txt'\n",
        "negative = io.open(negfile, 'r', encoding='utf8').read().split('\\n')\n",
        "positive = io.open(posfile, 'r', encoding='utf8').read().split('\\n')\n",
        "\n",
        "print(len(negative))\n",
        "print(len(positive))"
      ]
    },
    {
      "cell_type": "code",
      "execution_count": null,
      "metadata": {
        "id": "0Sj0qWUabx_z"
      },
      "outputs": [],
      "source": [
        "result = []\n",
        "\n",
        "positive_list = []\n",
        "negative_list = []\n",
        "ratio_list = []\n",
        "\n",
        "for inputTxt in clean_df.article:\n",
        "  tokens = [lemmatizer.lemmatize(word, pos='n') for word in word_tokenize(inputTxt) if len(word) > 2 and not word in set(stopwords.words('english'))]\n",
        "  \n",
        "  positive_words = []\n",
        "  negative_words = []\n",
        "  for t in tokens:\n",
        "    if t in negative: \n",
        "      negative_words.append(t)\n",
        "      negative_list.append(t)\n",
        "    elif t in positive:\n",
        "      positive_words.append(t)\n",
        "      positive_list.append(t)\n",
        "\n",
        "  ratio = float(len(positive_words)+1) / float(len(positive_words)+len(negative_words)+2) - 0.5\n",
        "  ratio_list.append(ratio)\n",
        "\n",
        "  if len(ratio_list) != 0:\n",
        "    score = sum(ratio_list) / float(len(ratio_list)) \n",
        "  else:\n",
        "    score = 0\n",
        "  \n",
        "  result.append(score)\n"
      ]
    },
    {
      "cell_type": "code",
      "execution_count": null,
      "metadata": {
        "colab": {
          "base_uri": "https://localhost:8080/"
        },
        "id": "1MeQ6jbPap0i",
        "outputId": "d115f99b-ac59-481c-fb9c-c027e41d79aa"
      },
      "outputs": [
        {
          "name": "stdout",
          "output_type": "stream",
          "text": [
            "---------------After adding a new column------------\n",
            "(11490, 3)\n",
            "                                                text  \\\n",
            "0  ever noticed plane seat appear getting smaller...   \n",
            "1  drunk teenage boy rescued security jumping lio...   \n",
            "2  dougie freedman verge agreeing new two year de...   \n",
            "3  liverpool target neto also wanted psg club spa...   \n",
            "4  bruce jenner break silence two hour interview ...   \n",
            "\n",
            "                                             summary     Score  \n",
            "0  expert question packed plane putting passenger... -0.142857  \n",
            "1  drunk teenage boy climbed lion enclosure zoo w... -0.139610  \n",
            "2  nottingham forest close extending dougie freed... -0.021645  \n",
            "3  fiorentina goalkeeper neto linked liverpool ar...  0.008766  \n",
            "4  tell interview reality star air friday april c... -0.031876  \n"
          ]
        }
      ],
      "source": [
        "#adding a new column\n",
        "\n",
        "clean_df.insert(2, 'Article_Score', result)\n",
        "print('---------------After adding a new column------------')\n",
        "print(clean_df.shape)\n",
        "print(clean_df.head())"
      ]
    },
    {
      "cell_type": "code",
      "execution_count": null,
      "metadata": {
        "colab": {
          "base_uri": "https://localhost:8080/",
          "height": 206
        },
        "id": "UBC-5UdNrBV2",
        "outputId": "1e413c24-f1a1-491e-c20a-59c84bdcb638"
      },
      "outputs": [
        {
          "data": {
            "text/html": [
              "\n",
              "  <div id=\"df-bc02f59c-56a7-407b-ac7d-ba021e828440\">\n",
              "    <div class=\"colab-df-container\">\n",
              "      <div>\n",
              "<style scoped>\n",
              "    .dataframe tbody tr th:only-of-type {\n",
              "        vertical-align: middle;\n",
              "    }\n",
              "\n",
              "    .dataframe tbody tr th {\n",
              "        vertical-align: top;\n",
              "    }\n",
              "\n",
              "    .dataframe thead th {\n",
              "        text-align: right;\n",
              "    }\n",
              "</style>\n",
              "<table border=\"1\" class=\"dataframe\">\n",
              "  <thead>\n",
              "    <tr style=\"text-align: right;\">\n",
              "      <th></th>\n",
              "      <th>text</th>\n",
              "      <th>summary</th>\n",
              "      <th>Score</th>\n",
              "    </tr>\n",
              "  </thead>\n",
              "  <tbody>\n",
              "    <tr>\n",
              "      <th>0</th>\n",
              "      <td>ever noticed plane seat appear getting smaller...</td>\n",
              "      <td>expert question packed plane putting passenger...</td>\n",
              "      <td>-0.142857</td>\n",
              "    </tr>\n",
              "    <tr>\n",
              "      <th>1</th>\n",
              "      <td>drunk teenage boy rescued security jumping lio...</td>\n",
              "      <td>drunk teenage boy climbed lion enclosure zoo w...</td>\n",
              "      <td>-0.139610</td>\n",
              "    </tr>\n",
              "    <tr>\n",
              "      <th>2</th>\n",
              "      <td>dougie freedman verge agreeing new two year de...</td>\n",
              "      <td>nottingham forest close extending dougie freed...</td>\n",
              "      <td>-0.021645</td>\n",
              "    </tr>\n",
              "    <tr>\n",
              "      <th>3</th>\n",
              "      <td>liverpool target neto also wanted psg club spa...</td>\n",
              "      <td>fiorentina goalkeeper neto linked liverpool ar...</td>\n",
              "      <td>0.008766</td>\n",
              "    </tr>\n",
              "    <tr>\n",
              "      <th>4</th>\n",
              "      <td>bruce jenner break silence two hour interview ...</td>\n",
              "      <td>tell interview reality star air friday april c...</td>\n",
              "      <td>-0.031876</td>\n",
              "    </tr>\n",
              "  </tbody>\n",
              "</table>\n",
              "</div>\n",
              "      <button class=\"colab-df-convert\" onclick=\"convertToInteractive('df-bc02f59c-56a7-407b-ac7d-ba021e828440')\"\n",
              "              title=\"Convert this dataframe to an interactive table.\"\n",
              "              style=\"display:none;\">\n",
              "        \n",
              "  <svg xmlns=\"http://www.w3.org/2000/svg\" height=\"24px\"viewBox=\"0 0 24 24\"\n",
              "       width=\"24px\">\n",
              "    <path d=\"M0 0h24v24H0V0z\" fill=\"none\"/>\n",
              "    <path d=\"M18.56 5.44l.94 2.06.94-2.06 2.06-.94-2.06-.94-.94-2.06-.94 2.06-2.06.94zm-11 1L8.5 8.5l.94-2.06 2.06-.94-2.06-.94L8.5 2.5l-.94 2.06-2.06.94zm10 10l.94 2.06.94-2.06 2.06-.94-2.06-.94-.94-2.06-.94 2.06-2.06.94z\"/><path d=\"M17.41 7.96l-1.37-1.37c-.4-.4-.92-.59-1.43-.59-.52 0-1.04.2-1.43.59L10.3 9.45l-7.72 7.72c-.78.78-.78 2.05 0 2.83L4 21.41c.39.39.9.59 1.41.59.51 0 1.02-.2 1.41-.59l7.78-7.78 2.81-2.81c.8-.78.8-2.07 0-2.86zM5.41 20L4 18.59l7.72-7.72 1.47 1.35L5.41 20z\"/>\n",
              "  </svg>\n",
              "      </button>\n",
              "      \n",
              "  <style>\n",
              "    .colab-df-container {\n",
              "      display:flex;\n",
              "      flex-wrap:wrap;\n",
              "      gap: 12px;\n",
              "    }\n",
              "\n",
              "    .colab-df-convert {\n",
              "      background-color: #E8F0FE;\n",
              "      border: none;\n",
              "      border-radius: 50%;\n",
              "      cursor: pointer;\n",
              "      display: none;\n",
              "      fill: #1967D2;\n",
              "      height: 32px;\n",
              "      padding: 0 0 0 0;\n",
              "      width: 32px;\n",
              "    }\n",
              "\n",
              "    .colab-df-convert:hover {\n",
              "      background-color: #E2EBFA;\n",
              "      box-shadow: 0px 1px 2px rgba(60, 64, 67, 0.3), 0px 1px 3px 1px rgba(60, 64, 67, 0.15);\n",
              "      fill: #174EA6;\n",
              "    }\n",
              "\n",
              "    [theme=dark] .colab-df-convert {\n",
              "      background-color: #3B4455;\n",
              "      fill: #D2E3FC;\n",
              "    }\n",
              "\n",
              "    [theme=dark] .colab-df-convert:hover {\n",
              "      background-color: #434B5C;\n",
              "      box-shadow: 0px 1px 3px 1px rgba(0, 0, 0, 0.15);\n",
              "      filter: drop-shadow(0px 1px 2px rgba(0, 0, 0, 0.3));\n",
              "      fill: #FFFFFF;\n",
              "    }\n",
              "  </style>\n",
              "\n",
              "      <script>\n",
              "        const buttonEl =\n",
              "          document.querySelector('#df-bc02f59c-56a7-407b-ac7d-ba021e828440 button.colab-df-convert');\n",
              "        buttonEl.style.display =\n",
              "          google.colab.kernel.accessAllowed ? 'block' : 'none';\n",
              "\n",
              "        async function convertToInteractive(key) {\n",
              "          const element = document.querySelector('#df-bc02f59c-56a7-407b-ac7d-ba021e828440');\n",
              "          const dataTable =\n",
              "            await google.colab.kernel.invokeFunction('convertToInteractive',\n",
              "                                                     [key], {});\n",
              "          if (!dataTable) return;\n",
              "\n",
              "          const docLinkHtml = 'Like what you see? Visit the ' +\n",
              "            '<a target=\"_blank\" href=https://colab.research.google.com/notebooks/data_table.ipynb>data table notebook</a>'\n",
              "            + ' to learn more about interactive tables.';\n",
              "          element.innerHTML = '';\n",
              "          dataTable['output_type'] = 'display_data';\n",
              "          await google.colab.output.renderOutput(dataTable, element);\n",
              "          const docLink = document.createElement('div');\n",
              "          docLink.innerHTML = docLinkHtml;\n",
              "          element.appendChild(docLink);\n",
              "        }\n",
              "      </script>\n",
              "    </div>\n",
              "  </div>\n",
              "  "
            ],
            "text/plain": [
              "                                                text  \\\n",
              "0  ever noticed plane seat appear getting smaller...   \n",
              "1  drunk teenage boy rescued security jumping lio...   \n",
              "2  dougie freedman verge agreeing new two year de...   \n",
              "3  liverpool target neto also wanted psg club spa...   \n",
              "4  bruce jenner break silence two hour interview ...   \n",
              "\n",
              "                                             summary     Score  \n",
              "0  expert question packed plane putting passenger... -0.142857  \n",
              "1  drunk teenage boy climbed lion enclosure zoo w... -0.139610  \n",
              "2  nottingham forest close extending dougie freed... -0.021645  \n",
              "3  fiorentina goalkeeper neto linked liverpool ar...  0.008766  \n",
              "4  tell interview reality star air friday april c... -0.031876  "
            ]
          },
          "execution_count": 27,
          "metadata": {},
          "output_type": "execute_result"
        }
      ],
      "source": [
        "clean_df.head()"
      ]
    },
    {
      "cell_type": "code",
      "execution_count": null,
      "metadata": {
        "id": "0EHF09lThM__"
      },
      "outputs": [],
      "source": [
        "# Saving the dataframe into file for re-purpose\n",
        "filename = 'clean_df.csv'\n",
        "clean_df.to_csv(filename, index=False)"
      ]
    },
    {
      "cell_type": "code",
      "execution_count": null,
      "metadata": {
        "colab": {
          "base_uri": "https://localhost:8080/"
        },
        "id": "zD_kdZG9sBm9",
        "outputId": "c43f81c2-8a14-4c2c-8a0b-8fc1f2521da6"
      },
      "outputs": [
        {
          "data": {
            "text/plain": [
              "RangeIndex(start=0, stop=11490, step=1)"
            ]
          },
          "execution_count": 29,
          "metadata": {},
          "output_type": "execute_result"
        }
      ],
      "source": [
        "clean_df.index"
      ]
    },
    {
      "cell_type": "code",
      "execution_count": null,
      "metadata": {
        "colab": {
          "base_uri": "https://localhost:8080/",
          "height": 455
        },
        "id": "DsflG8_xr96M",
        "outputId": "db14f748-f3b9-4a42-8871-1f72fd0a5d76"
      },
      "outputs": [
        {
          "data": {
            "text/plain": [
              "[<matplotlib.lines.Line2D at 0x7fd44f332f10>]"
            ]
          },
          "execution_count": 32,
          "metadata": {},
          "output_type": "execute_result"
        },
        {
          "data": {
            "image/png": "[encoded data removed]",
            "text/plain": [
              "<Figure size 1440x720 with 1 Axes>"
            ]
          },
          "metadata": {},
          "output_type": "display_data"
        }
      ],
      "source": [
        "plt.figure(figsize=(20,10))\n",
        "plt.plot(clean_df.index, clean_df.Article_Score)"
      ]
    },
    {
      "cell_type": "code",
      "execution_count": null,
      "metadata": {
        "id": "OuRAxtHj09u1"
      },
      "outputs": [],
      "source": [
        "# for summary or highlights\n",
        "result_s = []\n",
        "\n",
        "positive_list_s = []\n",
        "negative_list_s = []\n",
        "ratio_list_s = []\n",
        "\n",
        "for sumTxt in clean_df.summary:\n",
        "  tokens_s = [lemmatizer.lemmatize(word, pos='n') for word in word_tokenize(sumTxt) if len(word) > 2 and not word in set(stopwords.words('english'))]\n",
        "  \n",
        "  positive_words_s = []\n",
        "  negative_words_s = []\n",
        "  for t in tokens_s:\n",
        "    if t in negative: \n",
        "      negative_words_s.append(t)\n",
        "      negative_list_s.append(t)\n",
        "    elif t in positive:\n",
        "      positive_words_s.append(t)\n",
        "      positive_list_s.append(t)\n",
        "\n",
        "  ratio = float(len(positive_words_s)+1) / float(len(positive_words_s)+len(negative_words_s)+2) - 0.5\n",
        "  ratio_list_s.append(ratio)\n",
        "\n",
        "  if len(ratio_list_s) != 0:\n",
        "    score = sum(ratio_list_s) / float(len(ratio_list_s)) \n",
        "  else:\n",
        "    score = 0\n",
        "  \n",
        "  result_s.append(score)\n"
      ]
    },
    {
      "cell_type": "code",
      "execution_count": null,
      "metadata": {
        "colab": {
          "base_uri": "https://localhost:8080/"
        },
        "id": "XT9UYfk81kx3",
        "outputId": "bc56892b-5094-4cf0-d322-2e061cf4555a"
      },
      "outputs": [
        {
          "name": "stdout",
          "output_type": "stream",
          "text": [
            "---------------After adding a new column------------\n",
            "(11490, 4)\n",
            "                                                text  \\\n",
            "0  ever noticed plane seat appear getting smaller...   \n",
            "1  drunk teenage boy rescued security jumping lio...   \n",
            "2  dougie freedman verge agreeing new two year de...   \n",
            "3  liverpool target neto also wanted psg club spa...   \n",
            "4  bruce jenner break silence two hour interview ...   \n",
            "\n",
            "                                             summary     Score  Summary_Score  \n",
            "0  expert question packed plane putting passenger... -0.142857      -0.166667  \n",
            "1  drunk teenage boy climbed lion enclosure zoo w... -0.139610      -0.166667  \n",
            "2  nottingham forest close extending dougie freed... -0.021645      -0.055556  \n",
            "3  fiorentina goalkeeper neto linked liverpool ar...  0.008766      -0.041667  \n",
            "4  tell interview reality star air friday april c... -0.031876      -0.093333  \n"
          ]
        }
      ],
      "source": [
        "#adding a new column\n",
        "\n",
        "clean_df.insert(3, 'Summary_Score', result_s)\n",
        "print('---------------After adding a new column------------')\n",
        "print(clean_df.shape)\n",
        "print(clean_df.head())"
      ]
    },
    {
      "cell_type": "code",
      "execution_count": null,
      "metadata": {
        "colab": {
          "base_uri": "https://localhost:8080/",
          "height": 455
        },
        "id": "6KHY5R-u1rqe",
        "outputId": "1fdc7144-b67e-4155-cdb2-481de47d0c05"
      },
      "outputs": [
        {
          "data": {
            "text/plain": [
              "[<matplotlib.lines.Line2D at 0x7fd451f3d1d0>]"
            ]
          },
          "execution_count": 37,
          "metadata": {},
          "output_type": "execute_result"
        },
        {
          "data": {
            "image/png": "[encoded data removed]",
            "text/plain": [
              "<Figure size 1440x720 with 1 Axes>"
            ]
          },
          "metadata": {},
          "output_type": "display_data"
        }
      ],
      "source": [
        "plt.figure(figsize=(20,10))\n",
        "plt.plot(clean_df.index, clean_df.Summary_Score)"
      ]
    },
    {
      "cell_type": "code",
      "execution_count": null,
      "metadata": {
        "colab": {
          "base_uri": "https://localhost:8080/",
          "height": 517
        },
        "id": "rCyf4fI8sdBf",
        "outputId": "5213465f-eade-47c7-99b5-255b0382e4c1"
      },
      "outputs": [
        {
          "name": "stderr",
          "output_type": "stream",
          "text": [
            "/usr/local/lib/python3.7/dist-packages/sklearn/utils/deprecation.py:87: FutureWarning: Function get_feature_names is deprecated; get_feature_names is deprecated in 1.0 and will be removed in 1.2. Please use get_feature_names_out instead.\n",
            "  warnings.warn(msg, category=FutureWarning)\n"
          ]
        },
        {
          "data": {
            "image/png": "[encoded data removed]",
            "text/plain": [
              "<Figure size 1440x720 with 1 Axes>"
            ]
          },
          "metadata": {},
          "output_type": "display_data"
        },
        {
          "data": {
            "text/plain": [
              "<matplotlib.axes._subplots.AxesSubplot at 0x7fd44f2ce1d0>"
            ]
          },
          "execution_count": 33,
          "metadata": {},
          "output_type": "execute_result"
        }
      ],
      "source": [
        "vectorizer = CountVectorizer(stop_words=stop_words2)\n",
        "docs = vectorizer.fit_transform(positive_list)\n",
        "features = vectorizer.get_feature_names()\n",
        "plt.figure(figsize=(20,10))\n",
        "visualizer = FreqDistVisualizer(features=features)\n",
        "visualizer.fit(docs)\n",
        "visualizer.poof()"
      ]
    },
    {
      "cell_type": "code",
      "execution_count": null,
      "metadata": {
        "colab": {
          "base_uri": "https://localhost:8080/",
          "height": 512
        },
        "id": "WmaLiMkTssJ-",
        "outputId": "64e6ce9d-c2a9-4edc-e42e-b556511c7d98"
      },
      "outputs": [
        {
          "name": "stderr",
          "output_type": "stream",
          "text": [
            "/usr/local/lib/python3.7/dist-packages/sklearn/utils/deprecation.py:87: FutureWarning: Function get_feature_names is deprecated; get_feature_names is deprecated in 1.0 and will be removed in 1.2. Please use get_feature_names_out instead.\n",
            "  warnings.warn(msg, category=FutureWarning)\n"
          ]
        },
        {
          "data": {
            "image/png": "[encoded data removed]",
            "text/plain": [
              "<Figure size 1440x720 with 1 Axes>"
            ]
          },
          "metadata": {},
          "output_type": "display_data"
        },
        {
          "data": {
            "text/plain": [
              "<matplotlib.axes._subplots.AxesSubplot at 0x7fd44f340fd0>"
            ]
          },
          "execution_count": 34,
          "metadata": {},
          "output_type": "execute_result"
        }
      ],
      "source": [
        "vectorizer = CountVectorizer(stop_words=stop_words2)\n",
        "docs = vectorizer.fit_transform(negative_list)\n",
        "features = vectorizer.get_feature_names()\n",
        "plt.figure(figsize=(20,10))\n",
        "visualizer = FreqDistVisualizer(features=features)\n",
        "visualizer.fit(docs)\n",
        "visualizer.poof()"
      ]
    },
    {
      "cell_type": "code",
      "execution_count": null,
      "metadata": {
        "id": "6m74G62208Ut"
      },
      "outputs": [],
      "source": [
        "# Helper function\n",
        "def plot_common_words(count_data, count_vectorizer):\n",
        "    ''' Draw a barplot showing the tenth most common words in the data\n",
        "        Input:\n",
        "        - count_data: tuple, containing pairs of document-term and its ocurrencies in the text\n",
        "        - count_vectorizer: CountVectorizer object\n",
        "    '''\n",
        "    words = count_vectorizer.get_feature_names()\n",
        "    total_counts = np.zeros(len(words))\n",
        "    for t in count_data:\n",
        "        total_counts+=t.toarray()[0]\n",
        "    \n",
        "    count_dict = (zip(words, total_counts))\n",
        "    count_dict = sorted(count_dict, key=lambda x:x[1], reverse=True)[0:20]\n",
        "    words = [w[0] for w in count_dict]\n",
        "    counts = [w[1] for w in count_dict]\n",
        "    x_pos = np.arange(len(words)) \n",
        "    \n",
        "    plt.figure(2, figsize=(15, 15/1.6180))\n",
        "    plt.subplot(title='20 most common words')\n",
        "    sns.set_context(\"notebook\", font_scale=1.25, rc={\"lines.linewidth\": 2.5})\n",
        "    sns.barplot(x_pos, counts, palette='crest')\n",
        "    plt.xticks(x_pos, words, rotation=90) \n",
        "    plt.xlabel('words')\n",
        "    plt.ylabel('counts')\n",
        "    plt.show()"
      ]
    },
    {
      "cell_type": "markdown",
      "metadata": {
        "id": "B2wixU1uEpdj"
      },
      "source": [
        "Most used uni-grams in articles"
      ]
    },
    {
      "cell_type": "code",
      "execution_count": null,
      "metadata": {
        "id": "EAS2TgjUEo_C",
        "colab": {
          "base_uri": "https://localhost:8080/",
          "height": 670
        },
        "outputId": "43873894-e398-4df1-cd62-72997ae51af7"
      },
      "outputs": [
        {
          "output_type": "stream",
          "name": "stderr",
          "text": [
            "/usr/local/lib/python3.7/dist-packages/sklearn/utils/deprecation.py:87: FutureWarning: Function get_feature_names is deprecated; get_feature_names is deprecated in 1.0 and will be removed in 1.2. Please use get_feature_names_out instead.\n",
            "  warnings.warn(msg, category=FutureWarning)\n",
            "/usr/local/lib/python3.7/dist-packages/seaborn/_decorators.py:43: FutureWarning: Pass the following variables as keyword args: x, y. From version 0.12, the only valid positional argument will be `data`, and passing other arguments without an explicit keyword will result in an error or misinterpretation.\n",
            "  FutureWarning\n"
          ]
        },
        {
          "output_type": "display_data",
          "data": {
            "text/plain": [
              "<Figure size 1080x667.491 with 1 Axes>"
            ],
            "image/png": "[encoded data removed]"
          },
          "metadata": {}
        }
      ],
      "source": [
        "# Initialise the count vectorizer\n",
        "tf_vectorizer = CountVectorizer(max_df=0.9, min_df=25, max_features=10000,stop_words=stop_words2)\n",
        "# Apply the count vectorized method to our cleaned data\n",
        "tf = tf_vectorizer.fit_transform(clean_df.article)\n",
        "# Build the Document Term Matrix\n",
        "tf_feature_names = tf_vectorizer.get_feature_names()\n",
        "#doc_term_matrix = pd.DataFrame(tf.toarray(), columns=list(tf_feature_names))\n",
        "#print(doc_term_matrix)\n",
        "plot_common_words(tf, tf_vectorizer)"
      ]
    },
    {
      "cell_type": "markdown",
      "metadata": {
        "id": "T0Is-C1sE0p7"
      },
      "source": [
        "Most used uni-grams in highlights"
      ]
    },
    {
      "cell_type": "code",
      "execution_count": null,
      "metadata": {
        "id": "QB-9qTyXE4b5",
        "colab": {
          "base_uri": "https://localhost:8080/",
          "height": 675
        },
        "outputId": "b7e6abdb-c6bb-4c2b-a11b-be040f629423"
      },
      "outputs": [
        {
          "output_type": "stream",
          "name": "stderr",
          "text": [
            "/usr/local/lib/python3.7/dist-packages/sklearn/utils/deprecation.py:87: FutureWarning: Function get_feature_names is deprecated; get_feature_names is deprecated in 1.0 and will be removed in 1.2. Please use get_feature_names_out instead.\n",
            "  warnings.warn(msg, category=FutureWarning)\n",
            "/usr/local/lib/python3.7/dist-packages/seaborn/_decorators.py:43: FutureWarning: Pass the following variables as keyword args: x, y. From version 0.12, the only valid positional argument will be `data`, and passing other arguments without an explicit keyword will result in an error or misinterpretation.\n",
            "  FutureWarning\n"
          ]
        },
        {
          "output_type": "display_data",
          "data": {
            "text/plain": [
              "<Figure size 1080x667.491 with 1 Axes>"
            ],
            "image/png": "[encoded data removed]"
          },
          "metadata": {}
        }
      ],
      "source": [
        "# Initialise the count vectorizer\n",
        "tf_vectorizer = CountVectorizer(max_df=0.9, max_features=10000,stop_words=stop_words2) #, min_df=25\n",
        "# Apply the count vectorized method to our cleaned data\n",
        "tf = tf_vectorizer.fit_transform(clean_df.summary)\n",
        "# Build the Document Term Matrix\n",
        "tf_feature_names = tf_vectorizer.get_feature_names()\n",
        "#doc_term_matrix = pd.DataFrame(tf.toarray(), columns=list(tf_feature_names))\n",
        "#print(doc_term_matrix)\n",
        "plot_common_words(tf, tf_vectorizer)"
      ]
    },
    {
      "cell_type": "markdown",
      "metadata": {
        "id": "xjHU7XpUFREr"
      },
      "source": [
        "Most used bi-grams in articles"
      ]
    },
    {
      "cell_type": "code",
      "execution_count": null,
      "metadata": {
        "id": "elioRuRjFB6Z",
        "colab": {
          "base_uri": "https://localhost:8080/",
          "height": 739
        },
        "outputId": "eee69f1a-1cba-44a7-c58a-42060e6051b8"
      },
      "outputs": [
        {
          "output_type": "stream",
          "name": "stderr",
          "text": [
            "/usr/local/lib/python3.7/dist-packages/sklearn/utils/deprecation.py:87: FutureWarning: Function get_feature_names is deprecated; get_feature_names is deprecated in 1.0 and will be removed in 1.2. Please use get_feature_names_out instead.\n",
            "  warnings.warn(msg, category=FutureWarning)\n",
            "/usr/local/lib/python3.7/dist-packages/seaborn/_decorators.py:43: FutureWarning: Pass the following variables as keyword args: x, y. From version 0.12, the only valid positional argument will be `data`, and passing other arguments without an explicit keyword will result in an error or misinterpretation.\n",
            "  FutureWarning\n"
          ]
        },
        {
          "output_type": "display_data",
          "data": {
            "text/plain": [
              "<Figure size 1080x667.491 with 1 Axes>"
            ],
            "image/png": "[encoded data removed]"
          },
          "metadata": {}
        }
      ],
      "source": [
        "# Initialise the count vectorizer\n",
        "tf_vectorizer = CountVectorizer(ngram_range = (2, 2),max_df=0.9, max_features=10000,stop_words=stop_words2)\n",
        "# Apply the count vectorized method to our cleaned data\n",
        "tf = tf_vectorizer.fit_transform(clean_df.article)\n",
        "# Build the Document Term Matrix\n",
        "tf_feature_names = tf_vectorizer.get_feature_names()\n",
        "#doc_term_matrix = pd.DataFrame(tf.toarray(), columns=list(tf_feature_names))\n",
        "#print(doc_term_matrix)\n",
        "plot_common_words(tf, tf_vectorizer)"
      ]
    },
    {
      "cell_type": "markdown",
      "metadata": {
        "id": "MYLvVxOCFbpB"
      },
      "source": [
        "Most used bi-grams in Summary"
      ]
    },
    {
      "cell_type": "code",
      "execution_count": null,
      "metadata": {
        "id": "beRXh2z3Fe8Q",
        "colab": {
          "base_uri": "https://localhost:8080/",
          "height": 704
        },
        "outputId": "24c70746-94af-4b57-deb8-0e00b11135b3"
      },
      "outputs": [
        {
          "output_type": "stream",
          "name": "stderr",
          "text": [
            "/usr/local/lib/python3.7/dist-packages/seaborn/_decorators.py:43: FutureWarning: Pass the following variables as keyword args: x, y. From version 0.12, the only valid positional argument will be `data`, and passing other arguments without an explicit keyword will result in an error or misinterpretation.\n",
            "  FutureWarning\n"
          ]
        },
        {
          "output_type": "display_data",
          "data": {
            "text/plain": [
              "<Figure size 1080x667.491 with 1 Axes>"
            ],
            "image/png": "[encoded data removed]"
          },
          "metadata": {}
        }
      ],
      "source": [
        "# Initialise the count vectorizer\n",
        "tf_vectorizer = CountVectorizer(ngram_range = (2, 2),max_df=0.9, max_features=10000, stop_words=stop_words2)\n",
        "# Apply the count vectorized method to our cleaned data\n",
        "tf = tf_vectorizer.fit_transform(clean_df.summary)\n",
        "# Build the Document Term Matrix\n",
        "tf_feature_names = tf_vectorizer.get_feature_names()\n",
        "#doc_term_matrix = pd.DataFrame(tf.toarray(), columns=list(tf_feature_names))\n",
        "#print(doc_term_matrix)\n",
        "plot_common_words(tf, tf_vectorizer)"
      ]
    },
    {
      "cell_type": "code",
      "source": [
        "# Noun and Noun phrases extraction\n",
        "def get_noun_phrases_spacy(myText):\n",
        "    \"\"\"\n",
        "    Noun phrase extraction using spacy from a given text.\n",
        "    \"\"\"\n",
        "    try:\n",
        "        doc = nlp(myText)\n",
        "        noun_phrases = list(set(chunk.text.strip().lower()\n",
        "                            for chunk in doc.noun_chunks))\n",
        "        return noun_phrases\n",
        "\n",
        "    except Exception as ex:\n",
        "        print(f\"\\nException:common_utils.get_noun_phrases_spacy:\\n{str(ex)}\")\n",
        "        return None"
      ],
      "metadata": {
        "id": "bJtSOxOTl-NF"
      },
      "execution_count": null,
      "outputs": []
    },
    {
      "cell_type": "code",
      "source": [
        "# create embedding from the pre-trained model\n",
        "def get_candidate_embeddings(all_nouns):\n",
        "    \"\"\"\n",
        "    Input params:\n",
        "    all_nouns=list of nouns/noun-phrases\n",
        "\n",
        "    This function tokenizes and then creates embeddings from the input string.\n",
        "    \"\"\"\n",
        "    try:\n",
        "        candidate_tokens = tokenizer(\n",
        "            list(all_nouns),\n",
        "            truncation=True,\n",
        "            padding=True,\n",
        "            return_tensors=\"pt\")\n",
        "        candidate_embeddings = pt_model(**candidate_tokens)[\"pooler_output\"]\n",
        "        candidate_embeddings = candidate_embeddings.detach().numpy()\n",
        "\n",
        "        # output=matrix of embeddings, each row=embedding for every\n",
        "        # noun/noun-phrases\n",
        "        return candidate_embeddings\n",
        "\n",
        "    except Exception as ex:\n",
        "        print(f\"\\nException:common_utils.get_candidate_embeddings:\\n{str(ex)}\")\n",
        "        return None"
      ],
      "metadata": {
        "id": "OGHcDljpmXAj"
      },
      "execution_count": null,
      "outputs": []
    },
    {
      "cell_type": "code",
      "source": [
        "def get_best_words(\n",
        "        article_embeddings,\n",
        "        summary_embeddings,\n",
        "        all_nouns,\n",
        "        top_kw_count):\n",
        "    \"\"\"\n",
        "    This function compares distance between article and summary embdeddings\n",
        "    of noun phrases with the help of cosine_similarity\n",
        "    \"\"\"\n",
        "    try:\n",
        "        distances = cosine_similarity(article_embeddings, summary_embeddings)\n",
        "        keywords = [list(all_nouns)[index]\n",
        "                    for index in distances.argsort()[0][-top_kw_count:]]\n",
        "        return keywords, distances\n",
        "\n",
        "    except Exception as ex:\n",
        "        print(f\"\\nException:common_utils.get_best_keywords:\\n{str(ex)}\")\n",
        "        return None"
      ],
      "metadata": {
        "id": "NWWx39uEqFqG"
      },
      "execution_count": null,
      "outputs": []
    },
    {
      "cell_type": "code",
      "source": [
        "# find common words mainly nouns and noub-phrases\n",
        "def find_common_words(list1,list2):\n",
        "  #print(type(list1[0]))\n",
        "  print(list1)\n",
        "  print(list2)\n",
        "  list3 = list(set(list1)&set(list2))\n",
        "  print(list3)\n",
        "  return list3"
      ],
      "metadata": {
        "id": "lKjKM9xYzlT6"
      },
      "execution_count": null,
      "outputs": []
    },
    {
      "cell_type": "code",
      "source": [
        "top_n_kw_count = 50\n",
        "clean_df['features_article']=''\n",
        "clean_df['simscore_article']=''\n",
        "clean_df['features_summary']=''\n",
        "clean_df['simscore_summary']=''\n",
        "\n",
        "for index, row in tqdm(clean_df[:100].iterrows(), desc=\"Progress Bar...\"):\n",
        "    # get noun phrases using spacy. noun_phrases->list\n",
        "    noun_art = get_noun_phrases_spacy(row['article'])\n",
        "    noun_sum = get_noun_phrases_spacy(row['summary'])\n",
        "\n",
        "    # get embeddings of list of noun phrases from articles and summaries\n",
        "    artile_embeddings = get_candidate_embeddings(noun_art)\n",
        "    summary_embeddings = get_candidate_embeddings(noun_sum)\n",
        "\n",
        "    relevant_words_art, score_art = get_best_words(\n",
        "        artile_embeddings, summary_embeddings, noun_art, int(top_n_kw_count))\n",
        "    clean_df['features_article'].iloc[index] = relevant_words_art\n",
        "    clean_df['simscore_article'].iloc[index] = score_art\n",
        "\n",
        "    relevant_words_sum, score_sum = get_best_words(\n",
        "        artile_embeddings, summary_embeddings, noun_sum, int(top_n_kw_count))\n",
        "    clean_df['features_summary'].iloc[index] = relevant_words_sum\n",
        "    clean_df['simscore_summary'].iloc[index] = score_sum"
      ],
      "metadata": {
        "colab": {
          "base_uri": "https://localhost:8080/"
        },
        "id": "-ztPH2xpzu46",
        "outputId": "93fe0595-3d0f-483c-b5bc-0ca8381ac419"
      },
      "execution_count": null,
      "outputs": [
        {
          "output_type": "stream",
          "name": "stderr",
          "text": [
            "Progress Bar...: 100it [03:57,  2.37s/it]\n"
          ]
        }
      ]
    },
    {
      "cell_type": "code",
      "source": [
        "#COVERTING EVERY RECORD TO LIST\n",
        "clean_df.features_article = clean_df.features_article.tolist()\n",
        "clean_df.simscore_article = clean_df.simscore_article.tolist()\n",
        "clean_df.features_summary = clean_df.features_summary.tolist()\n",
        "clean_df.simscore_summary = clean_df.simscore_summary.tolist()"
      ],
      "metadata": {
        "id": "BkdYTRwT2ivj"
      },
      "execution_count": null,
      "outputs": []
    },
    {
      "cell_type": "code",
      "source": [
        "# Saving into disc for future use\n",
        "clean_df.to_csv('clean_embedding_features.csv', index=False)"
      ],
      "metadata": {
        "id": "6UwXl2HePy2l"
      },
      "execution_count": null,
      "outputs": []
    }
  ],
  "metadata": {
    "colab": {
      "collapsed_sections": [],
      "provenance": []
    },
    "kernelspec": {
      "display_name": "Python 3",
      "name": "python3"
    },
    "language_info": {
      "name": "python"
    },
    "gpuClass": "standard",
    "widgets": {
      "application/vnd.jupyter.widget-state+json": {
        "289d7e9f3918449eb64081c1440819ce": {
          "model_module": "@jupyter-widgets/controls",
          "model_name": "HBoxModel",
          "model_module_version": "2.0.0",
          "state": {
            "_dom_classes": [],
            "_model_module": "@jupyter-widgets/controls",
            "_model_module_version": "2.0.0",
            "_model_name": "HBoxModel",
            "_view_count": null,
            "_view_module": "@jupyter-widgets/controls",
            "_view_module_version": "2.0.0",
            "_view_name": "HBoxView",
            "box_style": "",
            "children": [
              "IPY_MODEL_1000558089c74d69aa647d38b9bcd638",
              "IPY_MODEL_b9734397c18a426a9460f1d0eaf2e293",
              "IPY_MODEL_3f671a6eaccf43e0847aa66f27de96d1"
            ],
            "layout": "IPY_MODEL_4f9123921c6f4739ac704836fa6d557f",
            "tabbable": null,
            "tooltip": null
          }
        },
        "1000558089c74d69aa647d38b9bcd638": {
          "model_module": "@jupyter-widgets/controls",
          "model_name": "HTMLModel",
          "model_module_version": "2.0.0",
          "state": {
            "_dom_classes": [],
            "_model_module": "@jupyter-widgets/controls",
            "_model_module_version": "2.0.0",
            "_model_name": "HTMLModel",
            "_view_count": null,
            "_view_module": "@jupyter-widgets/controls",
            "_view_module_version": "2.0.0",
            "_view_name": "HTMLView",
            "description": "",
            "description_allow_html": false,
            "layout": "IPY_MODEL_b466867b68544754a3b26215704e5491",
            "placeholder": "​",
            "style": "IPY_MODEL_2ec9e99f19b14127825de52d81b07568",
            "tabbable": null,
            "tooltip": null,
            "value": "Downloading config.json: 100%"
          }
        },
        "b9734397c18a426a9460f1d0eaf2e293": {
          "model_module": "@jupyter-widgets/controls",
          "model_name": "FloatProgressModel",
          "model_module_version": "2.0.0",
          "state": {
            "_dom_classes": [],
            "_model_module": "@jupyter-widgets/controls",
            "_model_module_version": "2.0.0",
            "_model_name": "FloatProgressModel",
            "_view_count": null,
            "_view_module": "@jupyter-widgets/controls",
            "_view_module_version": "2.0.0",
            "_view_name": "ProgressView",
            "bar_style": "success",
            "description": "",
            "description_allow_html": false,
            "layout": "IPY_MODEL_d51f664c2fdd4e9ebb6bd7e60c5d33c8",
            "max": 480,
            "min": 0,
            "orientation": "horizontal",
            "style": "IPY_MODEL_0dc2d02930d5415aad145d633ab949c6",
            "tabbable": null,
            "tooltip": null,
            "value": 480
          }
        },
        "3f671a6eaccf43e0847aa66f27de96d1": {
          "model_module": "@jupyter-widgets/controls",
          "model_name": "HTMLModel",
          "model_module_version": "2.0.0",
          "state": {
            "_dom_classes": [],
            "_model_module": "@jupyter-widgets/controls",
            "_model_module_version": "2.0.0",
            "_model_name": "HTMLModel",
            "_view_count": null,
            "_view_module": "@jupyter-widgets/controls",
            "_view_module_version": "2.0.0",
            "_view_name": "HTMLView",
            "description": "",
            "description_allow_html": false,
            "layout": "IPY_MODEL_af737f25d0344f47bfdb2a1b0840a805",
            "placeholder": "​",
            "style": "IPY_MODEL_6e9870746f6a4a93b0d9a24a19563b42",
            "tabbable": null,
            "tooltip": null,
            "value": " 480/480 [00:00&lt;00:00, 12.9kB/s]"
          }
        },
        "4f9123921c6f4739ac704836fa6d557f": {
          "model_module": "@jupyter-widgets/base",
          "model_name": "LayoutModel",
          "model_module_version": "2.0.0",
          "state": {
            "_model_module": "@jupyter-widgets/base",
            "_model_module_version": "2.0.0",
            "_model_name": "LayoutModel",
            "_view_count": null,
            "_view_module": "@jupyter-widgets/base",
            "_view_module_version": "2.0.0",
            "_view_name": "LayoutView",
            "align_content": null,
            "align_items": null,
            "align_self": null,
            "border_bottom": null,
            "border_left": null,
            "border_right": null,
            "border_top": null,
            "bottom": null,
            "display": null,
            "flex": null,
            "flex_flow": null,
            "grid_area": null,
            "grid_auto_columns": null,
            "grid_auto_flow": null,
            "grid_auto_rows": null,
            "grid_column": null,
            "grid_gap": null,
            "grid_row": null,
            "grid_template_areas": null,
            "grid_template_columns": null,
            "grid_template_rows": null,
            "height": null,
            "justify_content": null,
            "justify_items": null,
            "left": null,
            "margin": null,
            "max_height": null,
            "max_width": null,
            "min_height": null,
            "min_width": null,
            "object_fit": null,
            "object_position": null,
            "order": null,
            "overflow": null,
            "padding": null,
            "right": null,
            "top": null,
            "visibility": null,
            "width": null
          }
        },
        "b466867b68544754a3b26215704e5491": {
          "model_module": "@jupyter-widgets/base",
          "model_name": "LayoutModel",
          "model_module_version": "2.0.0",
          "state": {
            "_model_module": "@jupyter-widgets/base",
            "_model_module_version": "2.0.0",
            "_model_name": "LayoutModel",
            "_view_count": null,
            "_view_module": "@jupyter-widgets/base",
            "_view_module_version": "2.0.0",
            "_view_name": "LayoutView",
            "align_content": null,
            "align_items": null,
            "align_self": null,
            "border_bottom": null,
            "border_left": null,
            "border_right": null,
            "border_top": null,
            "bottom": null,
            "display": null,
            "flex": null,
            "flex_flow": null,
            "grid_area": null,
            "grid_auto_columns": null,
            "grid_auto_flow": null,
            "grid_auto_rows": null,
            "grid_column": null,
            "grid_gap": null,
            "grid_row": null,
            "grid_template_areas": null,
            "grid_template_columns": null,
            "grid_template_rows": null,
            "height": null,
            "justify_content": null,
            "justify_items": null,
            "left": null,
            "margin": null,
            "max_height": null,
            "max_width": null,
            "min_height": null,
            "min_width": null,
            "object_fit": null,
            "object_position": null,
            "order": null,
            "overflow": null,
            "padding": null,
            "right": null,
            "top": null,
            "visibility": null,
            "width": null
          }
        },
        "2ec9e99f19b14127825de52d81b07568": {
          "model_module": "@jupyter-widgets/controls",
          "model_name": "HTMLStyleModel",
          "model_module_version": "2.0.0",
          "state": {
            "_model_module": "@jupyter-widgets/controls",
            "_model_module_version": "2.0.0",
            "_model_name": "HTMLStyleModel",
            "_view_count": null,
            "_view_module": "@jupyter-widgets/base",
            "_view_module_version": "2.0.0",
            "_view_name": "StyleView",
            "background": null,
            "description_width": "",
            "font_size": null,
            "text_color": null
          }
        },
        "d51f664c2fdd4e9ebb6bd7e60c5d33c8": {
          "model_module": "@jupyter-widgets/base",
          "model_name": "LayoutModel",
          "model_module_version": "2.0.0",
          "state": {
            "_model_module": "@jupyter-widgets/base",
            "_model_module_version": "2.0.0",
            "_model_name": "LayoutModel",
            "_view_count": null,
            "_view_module": "@jupyter-widgets/base",
            "_view_module_version": "2.0.0",
            "_view_name": "LayoutView",
            "align_content": null,
            "align_items": null,
            "align_self": null,
            "border_bottom": null,
            "border_left": null,
            "border_right": null,
            "border_top": null,
            "bottom": null,
            "display": null,
            "flex": null,
            "flex_flow": null,
            "grid_area": null,
            "grid_auto_columns": null,
            "grid_auto_flow": null,
            "grid_auto_rows": null,
            "grid_column": null,
            "grid_gap": null,
            "grid_row": null,
            "grid_template_areas": null,
            "grid_template_columns": null,
            "grid_template_rows": null,
            "height": null,
            "justify_content": null,
            "justify_items": null,
            "left": null,
            "margin": null,
            "max_height": null,
            "max_width": null,
            "min_height": null,
            "min_width": null,
            "object_fit": null,
            "object_position": null,
            "order": null,
            "overflow": null,
            "padding": null,
            "right": null,
            "top": null,
            "visibility": null,
            "width": null
          }
        },
        "0dc2d02930d5415aad145d633ab949c6": {
          "model_module": "@jupyter-widgets/controls",
          "model_name": "ProgressStyleModel",
          "model_module_version": "2.0.0",
          "state": {
            "_model_module": "@jupyter-widgets/controls",
            "_model_module_version": "2.0.0",
            "_model_name": "ProgressStyleModel",
            "_view_count": null,
            "_view_module": "@jupyter-widgets/base",
            "_view_module_version": "2.0.0",
            "_view_name": "StyleView",
            "bar_color": null,
            "description_width": ""
          }
        },
        "af737f25d0344f47bfdb2a1b0840a805": {
          "model_module": "@jupyter-widgets/base",
          "model_name": "LayoutModel",
          "model_module_version": "2.0.0",
          "state": {
            "_model_module": "@jupyter-widgets/base",
            "_model_module_version": "2.0.0",
            "_model_name": "LayoutModel",
            "_view_count": null,
            "_view_module": "@jupyter-widgets/base",
            "_view_module_version": "2.0.0",
            "_view_name": "LayoutView",
            "align_content": null,
            "align_items": null,
            "align_self": null,
            "border_bottom": null,
            "border_left": null,
            "border_right": null,
            "border_top": null,
            "bottom": null,
            "display": null,
            "flex": null,
            "flex_flow": null,
            "grid_area": null,
            "grid_auto_columns": null,
            "grid_auto_flow": null,
            "grid_auto_rows": null,
            "grid_column": null,
            "grid_gap": null,
            "grid_row": null,
            "grid_template_areas": null,
            "grid_template_columns": null,
            "grid_template_rows": null,
            "height": null,
            "justify_content": null,
            "justify_items": null,
            "left": null,
            "margin": null,
            "max_height": null,
            "max_width": null,
            "min_height": null,
            "min_width": null,
            "object_fit": null,
            "object_position": null,
            "order": null,
            "overflow": null,
            "padding": null,
            "right": null,
            "top": null,
            "visibility": null,
            "width": null
          }
        },
        "6e9870746f6a4a93b0d9a24a19563b42": {
          "model_module": "@jupyter-widgets/controls",
          "model_name": "HTMLStyleModel",
          "model_module_version": "2.0.0",
          "state": {
            "_model_module": "@jupyter-widgets/controls",
            "_model_module_version": "2.0.0",
            "_model_name": "HTMLStyleModel",
            "_view_count": null,
            "_view_module": "@jupyter-widgets/base",
            "_view_module_version": "2.0.0",
            "_view_name": "StyleView",
            "background": null,
            "description_width": "",
            "font_size": null,
            "text_color": null
          }
        },
        "52e19ba6f6b84468aee4e36ca0bbcea1": {
          "model_module": "@jupyter-widgets/controls",
          "model_name": "HBoxModel",
          "model_module_version": "2.0.0",
          "state": {
            "_dom_classes": [],
            "_model_module": "@jupyter-widgets/controls",
            "_model_module_version": "2.0.0",
            "_model_name": "HBoxModel",
            "_view_count": null,
            "_view_module": "@jupyter-widgets/controls",
            "_view_module_version": "2.0.0",
            "_view_name": "HBoxView",
            "box_style": "",
            "children": [
              "IPY_MODEL_3e22829a0c4e4a9fa101a625f32e464f",
              "IPY_MODEL_9f9c2222ef7d4b0a8548321636700199",
              "IPY_MODEL_9313303abb8d40ae96cde32bd0aaaa20"
            ],
            "layout": "IPY_MODEL_e82209acb933445ab7840c154663dc7b",
            "tabbable": null,
            "tooltip": null
          }
        },
        "3e22829a0c4e4a9fa101a625f32e464f": {
          "model_module": "@jupyter-widgets/controls",
          "model_name": "HTMLModel",
          "model_module_version": "2.0.0",
          "state": {
            "_dom_classes": [],
            "_model_module": "@jupyter-widgets/controls",
            "_model_module_version": "2.0.0",
            "_model_name": "HTMLModel",
            "_view_count": null,
            "_view_module": "@jupyter-widgets/controls",
            "_view_module_version": "2.0.0",
            "_view_name": "HTMLView",
            "description": "",
            "description_allow_html": false,
            "layout": "IPY_MODEL_819bd853fe44427fb39e7ecae9bce167",
            "placeholder": "​",
            "style": "IPY_MODEL_813a7a5e39fc4755a82a921be26bd412",
            "tabbable": null,
            "tooltip": null,
            "value": "Downloading pytorch_model.bin: 100%"
          }
        },
        "9f9c2222ef7d4b0a8548321636700199": {
          "model_module": "@jupyter-widgets/controls",
          "model_name": "FloatProgressModel",
          "model_module_version": "2.0.0",
          "state": {
            "_dom_classes": [],
            "_model_module": "@jupyter-widgets/controls",
            "_model_module_version": "2.0.0",
            "_model_name": "FloatProgressModel",
            "_view_count": null,
            "_view_module": "@jupyter-widgets/controls",
            "_view_module_version": "2.0.0",
            "_view_name": "ProgressView",
            "bar_style": "success",
            "description": "",
            "description_allow_html": false,
            "layout": "IPY_MODEL_c18f7cf1c3984836bd9a4dfedbe93a87",
            "max": 331070498,
            "min": 0,
            "orientation": "horizontal",
            "style": "IPY_MODEL_cfcfcad6c44d4996a30eb594c6ca6300",
            "tabbable": null,
            "tooltip": null,
            "value": 331070498
          }
        },
        "9313303abb8d40ae96cde32bd0aaaa20": {
          "model_module": "@jupyter-widgets/controls",
          "model_name": "HTMLModel",
          "model_module_version": "2.0.0",
          "state": {
            "_dom_classes": [],
            "_model_module": "@jupyter-widgets/controls",
            "_model_module_version": "2.0.0",
            "_model_name": "HTMLModel",
            "_view_count": null,
            "_view_module": "@jupyter-widgets/controls",
            "_view_module_version": "2.0.0",
            "_view_name": "HTMLView",
            "description": "",
            "description_allow_html": false,
            "layout": "IPY_MODEL_06c1741de095450389d31eedf76eb222",
            "placeholder": "​",
            "style": "IPY_MODEL_7294d85a2e84426f974b4eda6730430f",
            "tabbable": null,
            "tooltip": null,
            "value": " 316M/316M [00:06&lt;00:00, 48.4MB/s]"
          }
        },
        "e82209acb933445ab7840c154663dc7b": {
          "model_module": "@jupyter-widgets/base",
          "model_name": "LayoutModel",
          "model_module_version": "2.0.0",
          "state": {
            "_model_module": "@jupyter-widgets/base",
            "_model_module_version": "2.0.0",
            "_model_name": "LayoutModel",
            "_view_count": null,
            "_view_module": "@jupyter-widgets/base",
            "_view_module_version": "2.0.0",
            "_view_name": "LayoutView",
            "align_content": null,
            "align_items": null,
            "align_self": null,
            "border_bottom": null,
            "border_left": null,
            "border_right": null,
            "border_top": null,
            "bottom": null,
            "display": null,
            "flex": null,
            "flex_flow": null,
            "grid_area": null,
            "grid_auto_columns": null,
            "grid_auto_flow": null,
            "grid_auto_rows": null,
            "grid_column": null,
            "grid_gap": null,
            "grid_row": null,
            "grid_template_areas": null,
            "grid_template_columns": null,
            "grid_template_rows": null,
            "height": null,
            "justify_content": null,
            "justify_items": null,
            "left": null,
            "margin": null,
            "max_height": null,
            "max_width": null,
            "min_height": null,
            "min_width": null,
            "object_fit": null,
            "object_position": null,
            "order": null,
            "overflow": null,
            "padding": null,
            "right": null,
            "top": null,
            "visibility": null,
            "width": null
          }
        },
        "819bd853fe44427fb39e7ecae9bce167": {
          "model_module": "@jupyter-widgets/base",
          "model_name": "LayoutModel",
          "model_module_version": "2.0.0",
          "state": {
            "_model_module": "@jupyter-widgets/base",
            "_model_module_version": "2.0.0",
            "_model_name": "LayoutModel",
            "_view_count": null,
            "_view_module": "@jupyter-widgets/base",
            "_view_module_version": "2.0.0",
            "_view_name": "LayoutView",
            "align_content": null,
            "align_items": null,
            "align_self": null,
            "border_bottom": null,
            "border_left": null,
            "border_right": null,
            "border_top": null,
            "bottom": null,
            "display": null,
            "flex": null,
            "flex_flow": null,
            "grid_area": null,
            "grid_auto_columns": null,
            "grid_auto_flow": null,
            "grid_auto_rows": null,
            "grid_column": null,
            "grid_gap": null,
            "grid_row": null,
            "grid_template_areas": null,
            "grid_template_columns": null,
            "grid_template_rows": null,
            "height": null,
            "justify_content": null,
            "justify_items": null,
            "left": null,
            "margin": null,
            "max_height": null,
            "max_width": null,
            "min_height": null,
            "min_width": null,
            "object_fit": null,
            "object_position": null,
            "order": null,
            "overflow": null,
            "padding": null,
            "right": null,
            "top": null,
            "visibility": null,
            "width": null
          }
        },
        "813a7a5e39fc4755a82a921be26bd412": {
          "model_module": "@jupyter-widgets/controls",
          "model_name": "HTMLStyleModel",
          "model_module_version": "2.0.0",
          "state": {
            "_model_module": "@jupyter-widgets/controls",
            "_model_module_version": "2.0.0",
            "_model_name": "HTMLStyleModel",
            "_view_count": null,
            "_view_module": "@jupyter-widgets/base",
            "_view_module_version": "2.0.0",
            "_view_name": "StyleView",
            "background": null,
            "description_width": "",
            "font_size": null,
            "text_color": null
          }
        },
        "c18f7cf1c3984836bd9a4dfedbe93a87": {
          "model_module": "@jupyter-widgets/base",
          "model_name": "LayoutModel",
          "model_module_version": "2.0.0",
          "state": {
            "_model_module": "@jupyter-widgets/base",
            "_model_module_version": "2.0.0",
            "_model_name": "LayoutModel",
            "_view_count": null,
            "_view_module": "@jupyter-widgets/base",
            "_view_module_version": "2.0.0",
            "_view_name": "LayoutView",
            "align_content": null,
            "align_items": null,
            "align_self": null,
            "border_bottom": null,
            "border_left": null,
            "border_right": null,
            "border_top": null,
            "bottom": null,
            "display": null,
            "flex": null,
            "flex_flow": null,
            "grid_area": null,
            "grid_auto_columns": null,
            "grid_auto_flow": null,
            "grid_auto_rows": null,
            "grid_column": null,
            "grid_gap": null,
            "grid_row": null,
            "grid_template_areas": null,
            "grid_template_columns": null,
            "grid_template_rows": null,
            "height": null,
            "justify_content": null,
            "justify_items": null,
            "left": null,
            "margin": null,
            "max_height": null,
            "max_width": null,
            "min_height": null,
            "min_width": null,
            "object_fit": null,
            "object_position": null,
            "order": null,
            "overflow": null,
            "padding": null,
            "right": null,
            "top": null,
            "visibility": null,
            "width": null
          }
        },
        "cfcfcad6c44d4996a30eb594c6ca6300": {
          "model_module": "@jupyter-widgets/controls",
          "model_name": "ProgressStyleModel",
          "model_module_version": "2.0.0",
          "state": {
            "_model_module": "@jupyter-widgets/controls",
            "_model_module_version": "2.0.0",
            "_model_name": "ProgressStyleModel",
            "_view_count": null,
            "_view_module": "@jupyter-widgets/base",
            "_view_module_version": "2.0.0",
            "_view_name": "StyleView",
            "bar_color": null,
            "description_width": ""
          }
        },
        "06c1741de095450389d31eedf76eb222": {
          "model_module": "@jupyter-widgets/base",
          "model_name": "LayoutModel",
          "model_module_version": "2.0.0",
          "state": {
            "_model_module": "@jupyter-widgets/base",
            "_model_module_version": "2.0.0",
            "_model_name": "LayoutModel",
            "_view_count": null,
            "_view_module": "@jupyter-widgets/base",
            "_view_module_version": "2.0.0",
            "_view_name": "LayoutView",
            "align_content": null,
            "align_items": null,
            "align_self": null,
            "border_bottom": null,
            "border_left": null,
            "border_right": null,
            "border_top": null,
            "bottom": null,
            "display": null,
            "flex": null,
            "flex_flow": null,
            "grid_area": null,
            "grid_auto_columns": null,
            "grid_auto_flow": null,
            "grid_auto_rows": null,
            "grid_column": null,
            "grid_gap": null,
            "grid_row": null,
            "grid_template_areas": null,
            "grid_template_columns": null,
            "grid_template_rows": null,
            "height": null,
            "justify_content": null,
            "justify_items": null,
            "left": null,
            "margin": null,
            "max_height": null,
            "max_width": null,
            "min_height": null,
            "min_width": null,
            "object_fit": null,
            "object_position": null,
            "order": null,
            "overflow": null,
            "padding": null,
            "right": null,
            "top": null,
            "visibility": null,
            "width": null
          }
        },
        "7294d85a2e84426f974b4eda6730430f": {
          "model_module": "@jupyter-widgets/controls",
          "model_name": "HTMLStyleModel",
          "model_module_version": "2.0.0",
          "state": {
            "_model_module": "@jupyter-widgets/controls",
            "_model_module_version": "2.0.0",
            "_model_name": "HTMLStyleModel",
            "_view_count": null,
            "_view_module": "@jupyter-widgets/base",
            "_view_module_version": "2.0.0",
            "_view_name": "StyleView",
            "background": null,
            "description_width": "",
            "font_size": null,
            "text_color": null
          }
        },
        "98e0971a72a944e8873da526fdff818f": {
          "model_module": "@jupyter-widgets/controls",
          "model_name": "HBoxModel",
          "model_module_version": "2.0.0",
          "state": {
            "_dom_classes": [],
            "_model_module": "@jupyter-widgets/controls",
            "_model_module_version": "2.0.0",
            "_model_name": "HBoxModel",
            "_view_count": null,
            "_view_module": "@jupyter-widgets/controls",
            "_view_module_version": "2.0.0",
            "_view_name": "HBoxView",
            "box_style": "",
            "children": [
              "IPY_MODEL_ffb7d8daffe5423daedf0f9c8ab2c069",
              "IPY_MODEL_2fdd804e872341d9b29d8f307d318b42",
              "IPY_MODEL_893b99ca7c4d4dd2856f3f2d32153358"
            ],
            "layout": "IPY_MODEL_8a2c41ad67f640ad95e1f2d86d2eab1a",
            "tabbable": null,
            "tooltip": null
          }
        },
        "ffb7d8daffe5423daedf0f9c8ab2c069": {
          "model_module": "@jupyter-widgets/controls",
          "model_name": "HTMLModel",
          "model_module_version": "2.0.0",
          "state": {
            "_dom_classes": [],
            "_model_module": "@jupyter-widgets/controls",
            "_model_module_version": "2.0.0",
            "_model_name": "HTMLModel",
            "_view_count": null,
            "_view_module": "@jupyter-widgets/controls",
            "_view_module_version": "2.0.0",
            "_view_name": "HTMLView",
            "description": "",
            "description_allow_html": false,
            "layout": "IPY_MODEL_e24dcbea1a4943dba0da43665434a9b9",
            "placeholder": "​",
            "style": "IPY_MODEL_0c3e2ce3c6b0489993e6d73958221c1d",
            "tabbable": null,
            "tooltip": null,
            "value": "Downloading vocab.json: 100%"
          }
        },
        "2fdd804e872341d9b29d8f307d318b42": {
          "model_module": "@jupyter-widgets/controls",
          "model_name": "FloatProgressModel",
          "model_module_version": "2.0.0",
          "state": {
            "_dom_classes": [],
            "_model_module": "@jupyter-widgets/controls",
            "_model_module_version": "2.0.0",
            "_model_name": "FloatProgressModel",
            "_view_count": null,
            "_view_module": "@jupyter-widgets/controls",
            "_view_module_version": "2.0.0",
            "_view_name": "ProgressView",
            "bar_style": "success",
            "description": "",
            "description_allow_html": false,
            "layout": "IPY_MODEL_f1d574ba29d2411485c7e641acb4dba8",
            "max": 898823,
            "min": 0,
            "orientation": "horizontal",
            "style": "IPY_MODEL_3d08f014f03b478fa4f883aa5a19cb34",
            "tabbable": null,
            "tooltip": null,
            "value": 898823
          }
        },
        "893b99ca7c4d4dd2856f3f2d32153358": {
          "model_module": "@jupyter-widgets/controls",
          "model_name": "HTMLModel",
          "model_module_version": "2.0.0",
          "state": {
            "_dom_classes": [],
            "_model_module": "@jupyter-widgets/controls",
            "_model_module_version": "2.0.0",
            "_model_name": "HTMLModel",
            "_view_count": null,
            "_view_module": "@jupyter-widgets/controls",
            "_view_module_version": "2.0.0",
            "_view_name": "HTMLView",
            "description": "",
            "description_allow_html": false,
            "layout": "IPY_MODEL_e63ef69d391741f5a67ca79f762e4f42",
            "placeholder": "​",
            "style": "IPY_MODEL_cb75eda6136e4bc585bbf946767b4a0c",
            "tabbable": null,
            "tooltip": null,
            "value": " 878k/878k [00:00&lt;00:00, 1.51MB/s]"
          }
        },
        "8a2c41ad67f640ad95e1f2d86d2eab1a": {
          "model_module": "@jupyter-widgets/base",
          "model_name": "LayoutModel",
          "model_module_version": "2.0.0",
          "state": {
            "_model_module": "@jupyter-widgets/base",
            "_model_module_version": "2.0.0",
            "_model_name": "LayoutModel",
            "_view_count": null,
            "_view_module": "@jupyter-widgets/base",
            "_view_module_version": "2.0.0",
            "_view_name": "LayoutView",
            "align_content": null,
            "align_items": null,
            "align_self": null,
            "border_bottom": null,
            "border_left": null,
            "border_right": null,
            "border_top": null,
            "bottom": null,
            "display": null,
            "flex": null,
            "flex_flow": null,
            "grid_area": null,
            "grid_auto_columns": null,
            "grid_auto_flow": null,
            "grid_auto_rows": null,
            "grid_column": null,
            "grid_gap": null,
            "grid_row": null,
            "grid_template_areas": null,
            "grid_template_columns": null,
            "grid_template_rows": null,
            "height": null,
            "justify_content": null,
            "justify_items": null,
            "left": null,
            "margin": null,
            "max_height": null,
            "max_width": null,
            "min_height": null,
            "min_width": null,
            "object_fit": null,
            "object_position": null,
            "order": null,
            "overflow": null,
            "padding": null,
            "right": null,
            "top": null,
            "visibility": null,
            "width": null
          }
        },
        "e24dcbea1a4943dba0da43665434a9b9": {
          "model_module": "@jupyter-widgets/base",
          "model_name": "LayoutModel",
          "model_module_version": "2.0.0",
          "state": {
            "_model_module": "@jupyter-widgets/base",
            "_model_module_version": "2.0.0",
            "_model_name": "LayoutModel",
            "_view_count": null,
            "_view_module": "@jupyter-widgets/base",
            "_view_module_version": "2.0.0",
            "_view_name": "LayoutView",
            "align_content": null,
            "align_items": null,
            "align_self": null,
            "border_bottom": null,
            "border_left": null,
            "border_right": null,
            "border_top": null,
            "bottom": null,
            "display": null,
            "flex": null,
            "flex_flow": null,
            "grid_area": null,
            "grid_auto_columns": null,
            "grid_auto_flow": null,
            "grid_auto_rows": null,
            "grid_column": null,
            "grid_gap": null,
            "grid_row": null,
            "grid_template_areas": null,
            "grid_template_columns": null,
            "grid_template_rows": null,
            "height": null,
            "justify_content": null,
            "justify_items": null,
            "left": null,
            "margin": null,
            "max_height": null,
            "max_width": null,
            "min_height": null,
            "min_width": null,
            "object_fit": null,
            "object_position": null,
            "order": null,
            "overflow": null,
            "padding": null,
            "right": null,
            "top": null,
            "visibility": null,
            "width": null
          }
        },
        "0c3e2ce3c6b0489993e6d73958221c1d": {
          "model_module": "@jupyter-widgets/controls",
          "model_name": "HTMLStyleModel",
          "model_module_version": "2.0.0",
          "state": {
            "_model_module": "@jupyter-widgets/controls",
            "_model_module_version": "2.0.0",
            "_model_name": "HTMLStyleModel",
            "_view_count": null,
            "_view_module": "@jupyter-widgets/base",
            "_view_module_version": "2.0.0",
            "_view_name": "StyleView",
            "background": null,
            "description_width": "",
            "font_size": null,
            "text_color": null
          }
        },
        "f1d574ba29d2411485c7e641acb4dba8": {
          "model_module": "@jupyter-widgets/base",
          "model_name": "LayoutModel",
          "model_module_version": "2.0.0",
          "state": {
            "_model_module": "@jupyter-widgets/base",
            "_model_module_version": "2.0.0",
            "_model_name": "LayoutModel",
            "_view_count": null,
            "_view_module": "@jupyter-widgets/base",
            "_view_module_version": "2.0.0",
            "_view_name": "LayoutView",
            "align_content": null,
            "align_items": null,
            "align_self": null,
            "border_bottom": null,
            "border_left": null,
            "border_right": null,
            "border_top": null,
            "bottom": null,
            "display": null,
            "flex": null,
            "flex_flow": null,
            "grid_area": null,
            "grid_auto_columns": null,
            "grid_auto_flow": null,
            "grid_auto_rows": null,
            "grid_column": null,
            "grid_gap": null,
            "grid_row": null,
            "grid_template_areas": null,
            "grid_template_columns": null,
            "grid_template_rows": null,
            "height": null,
            "justify_content": null,
            "justify_items": null,
            "left": null,
            "margin": null,
            "max_height": null,
            "max_width": null,
            "min_height": null,
            "min_width": null,
            "object_fit": null,
            "object_position": null,
            "order": null,
            "overflow": null,
            "padding": null,
            "right": null,
            "top": null,
            "visibility": null,
            "width": null
          }
        },
        "3d08f014f03b478fa4f883aa5a19cb34": {
          "model_module": "@jupyter-widgets/controls",
          "model_name": "ProgressStyleModel",
          "model_module_version": "2.0.0",
          "state": {
            "_model_module": "@jupyter-widgets/controls",
            "_model_module_version": "2.0.0",
            "_model_name": "ProgressStyleModel",
            "_view_count": null,
            "_view_module": "@jupyter-widgets/base",
            "_view_module_version": "2.0.0",
            "_view_name": "StyleView",
            "bar_color": null,
            "description_width": ""
          }
        },
        "e63ef69d391741f5a67ca79f762e4f42": {
          "model_module": "@jupyter-widgets/base",
          "model_name": "LayoutModel",
          "model_module_version": "2.0.0",
          "state": {
            "_model_module": "@jupyter-widgets/base",
            "_model_module_version": "2.0.0",
            "_model_name": "LayoutModel",
            "_view_count": null,
            "_view_module": "@jupyter-widgets/base",
            "_view_module_version": "2.0.0",
            "_view_name": "LayoutView",
            "align_content": null,
            "align_items": null,
            "align_self": null,
            "border_bottom": null,
            "border_left": null,
            "border_right": null,
            "border_top": null,
            "bottom": null,
            "display": null,
            "flex": null,
            "flex_flow": null,
            "grid_area": null,
            "grid_auto_columns": null,
            "grid_auto_flow": null,
            "grid_auto_rows": null,
            "grid_column": null,
            "grid_gap": null,
            "grid_row": null,
            "grid_template_areas": null,
            "grid_template_columns": null,
            "grid_template_rows": null,
            "height": null,
            "justify_content": null,
            "justify_items": null,
            "left": null,
            "margin": null,
            "max_height": null,
            "max_width": null,
            "min_height": null,
            "min_width": null,
            "object_fit": null,
            "object_position": null,
            "order": null,
            "overflow": null,
            "padding": null,
            "right": null,
            "top": null,
            "visibility": null,
            "width": null
          }
        },
        "cb75eda6136e4bc585bbf946767b4a0c": {
          "model_module": "@jupyter-widgets/controls",
          "model_name": "HTMLStyleModel",
          "model_module_version": "2.0.0",
          "state": {
            "_model_module": "@jupyter-widgets/controls",
            "_model_module_version": "2.0.0",
            "_model_name": "HTMLStyleModel",
            "_view_count": null,
            "_view_module": "@jupyter-widgets/base",
            "_view_module_version": "2.0.0",
            "_view_name": "StyleView",
            "background": null,
            "description_width": "",
            "font_size": null,
            "text_color": null
          }
        },
        "74276eb7bcc042d9947e9615dc222a4b": {
          "model_module": "@jupyter-widgets/controls",
          "model_name": "HBoxModel",
          "model_module_version": "2.0.0",
          "state": {
            "_dom_classes": [],
            "_model_module": "@jupyter-widgets/controls",
            "_model_module_version": "2.0.0",
            "_model_name": "HBoxModel",
            "_view_count": null,
            "_view_module": "@jupyter-widgets/controls",
            "_view_module_version": "2.0.0",
            "_view_name": "HBoxView",
            "box_style": "",
            "children": [
              "IPY_MODEL_f826362a40024ee1b127eccbe270e8dd",
              "IPY_MODEL_7e177a9b98b445e489f70b53f41ff6ef",
              "IPY_MODEL_8b124512dd63424c8bab71a6cc49b112"
            ],
            "layout": "IPY_MODEL_aacd482411b4421fb5765befa0d40b82",
            "tabbable": null,
            "tooltip": null
          }
        },
        "f826362a40024ee1b127eccbe270e8dd": {
          "model_module": "@jupyter-widgets/controls",
          "model_name": "HTMLModel",
          "model_module_version": "2.0.0",
          "state": {
            "_dom_classes": [],
            "_model_module": "@jupyter-widgets/controls",
            "_model_module_version": "2.0.0",
            "_model_name": "HTMLModel",
            "_view_count": null,
            "_view_module": "@jupyter-widgets/controls",
            "_view_module_version": "2.0.0",
            "_view_name": "HTMLView",
            "description": "",
            "description_allow_html": false,
            "layout": "IPY_MODEL_b07b667dd0bd47d08d99feeb44a539d1",
            "placeholder": "​",
            "style": "IPY_MODEL_b5e7e46041e84e0c960e95f2570cecff",
            "tabbable": null,
            "tooltip": null,
            "value": "Downloading merges.txt: 100%"
          }
        },
        "7e177a9b98b445e489f70b53f41ff6ef": {
          "model_module": "@jupyter-widgets/controls",
          "model_name": "FloatProgressModel",
          "model_module_version": "2.0.0",
          "state": {
            "_dom_classes": [],
            "_model_module": "@jupyter-widgets/controls",
            "_model_module_version": "2.0.0",
            "_model_name": "FloatProgressModel",
            "_view_count": null,
            "_view_module": "@jupyter-widgets/controls",
            "_view_module_version": "2.0.0",
            "_view_name": "ProgressView",
            "bar_style": "success",
            "description": "",
            "description_allow_html": false,
            "layout": "IPY_MODEL_e22dc04fb560480d9a6973427fba76e7",
            "max": 456318,
            "min": 0,
            "orientation": "horizontal",
            "style": "IPY_MODEL_2f79b4bd1a904f69bb5b8c7b01efac40",
            "tabbable": null,
            "tooltip": null,
            "value": 456318
          }
        },
        "8b124512dd63424c8bab71a6cc49b112": {
          "model_module": "@jupyter-widgets/controls",
          "model_name": "HTMLModel",
          "model_module_version": "2.0.0",
          "state": {
            "_dom_classes": [],
            "_model_module": "@jupyter-widgets/controls",
            "_model_module_version": "2.0.0",
            "_model_name": "HTMLModel",
            "_view_count": null,
            "_view_module": "@jupyter-widgets/controls",
            "_view_module_version": "2.0.0",
            "_view_name": "HTMLView",
            "description": "",
            "description_allow_html": false,
            "layout": "IPY_MODEL_1b62a277189149828686230be5fbc7be",
            "placeholder": "​",
            "style": "IPY_MODEL_ed9c2d6651c3406fb91a10cf0c5c9401",
            "tabbable": null,
            "tooltip": null,
            "value": " 446k/446k [00:00&lt;00:00, 1.72MB/s]"
          }
        },
        "aacd482411b4421fb5765befa0d40b82": {
          "model_module": "@jupyter-widgets/base",
          "model_name": "LayoutModel",
          "model_module_version": "2.0.0",
          "state": {
            "_model_module": "@jupyter-widgets/base",
            "_model_module_version": "2.0.0",
            "_model_name": "LayoutModel",
            "_view_count": null,
            "_view_module": "@jupyter-widgets/base",
            "_view_module_version": "2.0.0",
            "_view_name": "LayoutView",
            "align_content": null,
            "align_items": null,
            "align_self": null,
            "border_bottom": null,
            "border_left": null,
            "border_right": null,
            "border_top": null,
            "bottom": null,
            "display": null,
            "flex": null,
            "flex_flow": null,
            "grid_area": null,
            "grid_auto_columns": null,
            "grid_auto_flow": null,
            "grid_auto_rows": null,
            "grid_column": null,
            "grid_gap": null,
            "grid_row": null,
            "grid_template_areas": null,
            "grid_template_columns": null,
            "grid_template_rows": null,
            "height": null,
            "justify_content": null,
            "justify_items": null,
            "left": null,
            "margin": null,
            "max_height": null,
            "max_width": null,
            "min_height": null,
            "min_width": null,
            "object_fit": null,
            "object_position": null,
            "order": null,
            "overflow": null,
            "padding": null,
            "right": null,
            "top": null,
            "visibility": null,
            "width": null
          }
        },
        "b07b667dd0bd47d08d99feeb44a539d1": {
          "model_module": "@jupyter-widgets/base",
          "model_name": "LayoutModel",
          "model_module_version": "2.0.0",
          "state": {
            "_model_module": "@jupyter-widgets/base",
            "_model_module_version": "2.0.0",
            "_model_name": "LayoutModel",
            "_view_count": null,
            "_view_module": "@jupyter-widgets/base",
            "_view_module_version": "2.0.0",
            "_view_name": "LayoutView",
            "align_content": null,
            "align_items": null,
            "align_self": null,
            "border_bottom": null,
            "border_left": null,
            "border_right": null,
            "border_top": null,
            "bottom": null,
            "display": null,
            "flex": null,
            "flex_flow": null,
            "grid_area": null,
            "grid_auto_columns": null,
            "grid_auto_flow": null,
            "grid_auto_rows": null,
            "grid_column": null,
            "grid_gap": null,
            "grid_row": null,
            "grid_template_areas": null,
            "grid_template_columns": null,
            "grid_template_rows": null,
            "height": null,
            "justify_content": null,
            "justify_items": null,
            "left": null,
            "margin": null,
            "max_height": null,
            "max_width": null,
            "min_height": null,
            "min_width": null,
            "object_fit": null,
            "object_position": null,
            "order": null,
            "overflow": null,
            "padding": null,
            "right": null,
            "top": null,
            "visibility": null,
            "width": null
          }
        },
        "b5e7e46041e84e0c960e95f2570cecff": {
          "model_module": "@jupyter-widgets/controls",
          "model_name": "HTMLStyleModel",
          "model_module_version": "2.0.0",
          "state": {
            "_model_module": "@jupyter-widgets/controls",
            "_model_module_version": "2.0.0",
            "_model_name": "HTMLStyleModel",
            "_view_count": null,
            "_view_module": "@jupyter-widgets/base",
            "_view_module_version": "2.0.0",
            "_view_name": "StyleView",
            "background": null,
            "description_width": "",
            "font_size": null,
            "text_color": null
          }
        },
        "e22dc04fb560480d9a6973427fba76e7": {
          "model_module": "@jupyter-widgets/base",
          "model_name": "LayoutModel",
          "model_module_version": "2.0.0",
          "state": {
            "_model_module": "@jupyter-widgets/base",
            "_model_module_version": "2.0.0",
            "_model_name": "LayoutModel",
            "_view_count": null,
            "_view_module": "@jupyter-widgets/base",
            "_view_module_version": "2.0.0",
            "_view_name": "LayoutView",
            "align_content": null,
            "align_items": null,
            "align_self": null,
            "border_bottom": null,
            "border_left": null,
            "border_right": null,
            "border_top": null,
            "bottom": null,
            "display": null,
            "flex": null,
            "flex_flow": null,
            "grid_area": null,
            "grid_auto_columns": null,
            "grid_auto_flow": null,
            "grid_auto_rows": null,
            "grid_column": null,
            "grid_gap": null,
            "grid_row": null,
            "grid_template_areas": null,
            "grid_template_columns": null,
            "grid_template_rows": null,
            "height": null,
            "justify_content": null,
            "justify_items": null,
            "left": null,
            "margin": null,
            "max_height": null,
            "max_width": null,
            "min_height": null,
            "min_width": null,
            "object_fit": null,
            "object_position": null,
            "order": null,
            "overflow": null,
            "padding": null,
            "right": null,
            "top": null,
            "visibility": null,
            "width": null
          }
        },
        "2f79b4bd1a904f69bb5b8c7b01efac40": {
          "model_module": "@jupyter-widgets/controls",
          "model_name": "ProgressStyleModel",
          "model_module_version": "2.0.0",
          "state": {
            "_model_module": "@jupyter-widgets/controls",
            "_model_module_version": "2.0.0",
            "_model_name": "ProgressStyleModel",
            "_view_count": null,
            "_view_module": "@jupyter-widgets/base",
            "_view_module_version": "2.0.0",
            "_view_name": "StyleView",
            "bar_color": null,
            "description_width": ""
          }
        },
        "1b62a277189149828686230be5fbc7be": {
          "model_module": "@jupyter-widgets/base",
          "model_name": "LayoutModel",
          "model_module_version": "2.0.0",
          "state": {
            "_model_module": "@jupyter-widgets/base",
            "_model_module_version": "2.0.0",
            "_model_name": "LayoutModel",
            "_view_count": null,
            "_view_module": "@jupyter-widgets/base",
            "_view_module_version": "2.0.0",
            "_view_name": "LayoutView",
            "align_content": null,
            "align_items": null,
            "align_self": null,
            "border_bottom": null,
            "border_left": null,
            "border_right": null,
            "border_top": null,
            "bottom": null,
            "display": null,
            "flex": null,
            "flex_flow": null,
            "grid_area": null,
            "grid_auto_columns": null,
            "grid_auto_flow": null,
            "grid_auto_rows": null,
            "grid_column": null,
            "grid_gap": null,
            "grid_row": null,
            "grid_template_areas": null,
            "grid_template_columns": null,
            "grid_template_rows": null,
            "height": null,
            "justify_content": null,
            "justify_items": null,
            "left": null,
            "margin": null,
            "max_height": null,
            "max_width": null,
            "min_height": null,
            "min_width": null,
            "object_fit": null,
            "object_position": null,
            "order": null,
            "overflow": null,
            "padding": null,
            "right": null,
            "top": null,
            "visibility": null,
            "width": null
          }
        },
        "ed9c2d6651c3406fb91a10cf0c5c9401": {
          "model_module": "@jupyter-widgets/controls",
          "model_name": "HTMLStyleModel",
          "model_module_version": "2.0.0",
          "state": {
            "_model_module": "@jupyter-widgets/controls",
            "_model_module_version": "2.0.0",
            "_model_name": "HTMLStyleModel",
            "_view_count": null,
            "_view_module": "@jupyter-widgets/base",
            "_view_module_version": "2.0.0",
            "_view_name": "StyleView",
            "background": null,
            "description_width": "",
            "font_size": null,
            "text_color": null
          }
        },
        "13f3cc1583c243f19c2ed2efe8d74ce3": {
          "model_module": "@jupyter-widgets/controls",
          "model_name": "HBoxModel",
          "model_module_version": "2.0.0",
          "state": {
            "_dom_classes": [],
            "_model_module": "@jupyter-widgets/controls",
            "_model_module_version": "2.0.0",
            "_model_name": "HBoxModel",
            "_view_count": null,
            "_view_module": "@jupyter-widgets/controls",
            "_view_module_version": "2.0.0",
            "_view_name": "HBoxView",
            "box_style": "",
            "children": [
              "IPY_MODEL_182bf8aa8f1f4d2e8b26da063614ee86",
              "IPY_MODEL_4a89e4dc9f1e462f8096d6d10e0f621c",
              "IPY_MODEL_26056009d66d40fb87d0abee24d23163"
            ],
            "layout": "IPY_MODEL_40dffb9e779747b3a2355ba4868c24e6",
            "tabbable": null,
            "tooltip": null
          }
        },
        "182bf8aa8f1f4d2e8b26da063614ee86": {
          "model_module": "@jupyter-widgets/controls",
          "model_name": "HTMLModel",
          "model_module_version": "2.0.0",
          "state": {
            "_dom_classes": [],
            "_model_module": "@jupyter-widgets/controls",
            "_model_module_version": "2.0.0",
            "_model_name": "HTMLModel",
            "_view_count": null,
            "_view_module": "@jupyter-widgets/controls",
            "_view_module_version": "2.0.0",
            "_view_name": "HTMLView",
            "description": "",
            "description_allow_html": false,
            "layout": "IPY_MODEL_d6a3838243664e129cb2a6e2d1b5a9ca",
            "placeholder": "​",
            "style": "IPY_MODEL_5cf67e369e5c460da458f567a85f0835",
            "tabbable": null,
            "tooltip": null,
            "value": "Downloading tokenizer.json: 100%"
          }
        },
        "4a89e4dc9f1e462f8096d6d10e0f621c": {
          "model_module": "@jupyter-widgets/controls",
          "model_name": "FloatProgressModel",
          "model_module_version": "2.0.0",
          "state": {
            "_dom_classes": [],
            "_model_module": "@jupyter-widgets/controls",
            "_model_module_version": "2.0.0",
            "_model_name": "FloatProgressModel",
            "_view_count": null,
            "_view_module": "@jupyter-widgets/controls",
            "_view_module_version": "2.0.0",
            "_view_name": "ProgressView",
            "bar_style": "success",
            "description": "",
            "description_allow_html": false,
            "layout": "IPY_MODEL_7786aa7e9b134984b4c434414eb75dae",
            "max": 1355863,
            "min": 0,
            "orientation": "horizontal",
            "style": "IPY_MODEL_a9449d50b4f14a07b8d0bf4632f52150",
            "tabbable": null,
            "tooltip": null,
            "value": 1355863
          }
        },
        "26056009d66d40fb87d0abee24d23163": {
          "model_module": "@jupyter-widgets/controls",
          "model_name": "HTMLModel",
          "model_module_version": "2.0.0",
          "state": {
            "_dom_classes": [],
            "_model_module": "@jupyter-widgets/controls",
            "_model_module_version": "2.0.0",
            "_model_name": "HTMLModel",
            "_view_count": null,
            "_view_module": "@jupyter-widgets/controls",
            "_view_module_version": "2.0.0",
            "_view_name": "HTMLView",
            "description": "",
            "description_allow_html": false,
            "layout": "IPY_MODEL_dbe7c1ae919e45cf8a839ff85f03ee03",
            "placeholder": "​",
            "style": "IPY_MODEL_0bf15d2a67fb46c884ea454ea8419bd7",
            "tabbable": null,
            "tooltip": null,
            "value": " 1.29M/1.29M [00:00&lt;00:00, 7.71MB/s]"
          }
        },
        "40dffb9e779747b3a2355ba4868c24e6": {
          "model_module": "@jupyter-widgets/base",
          "model_name": "LayoutModel",
          "model_module_version": "2.0.0",
          "state": {
            "_model_module": "@jupyter-widgets/base",
            "_model_module_version": "2.0.0",
            "_model_name": "LayoutModel",
            "_view_count": null,
            "_view_module": "@jupyter-widgets/base",
            "_view_module_version": "2.0.0",
            "_view_name": "LayoutView",
            "align_content": null,
            "align_items": null,
            "align_self": null,
            "border_bottom": null,
            "border_left": null,
            "border_right": null,
            "border_top": null,
            "bottom": null,
            "display": null,
            "flex": null,
            "flex_flow": null,
            "grid_area": null,
            "grid_auto_columns": null,
            "grid_auto_flow": null,
            "grid_auto_rows": null,
            "grid_column": null,
            "grid_gap": null,
            "grid_row": null,
            "grid_template_areas": null,
            "grid_template_columns": null,
            "grid_template_rows": null,
            "height": null,
            "justify_content": null,
            "justify_items": null,
            "left": null,
            "margin": null,
            "max_height": null,
            "max_width": null,
            "min_height": null,
            "min_width": null,
            "object_fit": null,
            "object_position": null,
            "order": null,
            "overflow": null,
            "padding": null,
            "right": null,
            "top": null,
            "visibility": null,
            "width": null
          }
        },
        "d6a3838243664e129cb2a6e2d1b5a9ca": {
          "model_module": "@jupyter-widgets/base",
          "model_name": "LayoutModel",
          "model_module_version": "2.0.0",
          "state": {
            "_model_module": "@jupyter-widgets/base",
            "_model_module_version": "2.0.0",
            "_model_name": "LayoutModel",
            "_view_count": null,
            "_view_module": "@jupyter-widgets/base",
            "_view_module_version": "2.0.0",
            "_view_name": "LayoutView",
            "align_content": null,
            "align_items": null,
            "align_self": null,
            "border_bottom": null,
            "border_left": null,
            "border_right": null,
            "border_top": null,
            "bottom": null,
            "display": null,
            "flex": null,
            "flex_flow": null,
            "grid_area": null,
            "grid_auto_columns": null,
            "grid_auto_flow": null,
            "grid_auto_rows": null,
            "grid_column": null,
            "grid_gap": null,
            "grid_row": null,
            "grid_template_areas": null,
            "grid_template_columns": null,
            "grid_template_rows": null,
            "height": null,
            "justify_content": null,
            "justify_items": null,
            "left": null,
            "margin": null,
            "max_height": null,
            "max_width": null,
            "min_height": null,
            "min_width": null,
            "object_fit": null,
            "object_position": null,
            "order": null,
            "overflow": null,
            "padding": null,
            "right": null,
            "top": null,
            "visibility": null,
            "width": null
          }
        },
        "5cf67e369e5c460da458f567a85f0835": {
          "model_module": "@jupyter-widgets/controls",
          "model_name": "HTMLStyleModel",
          "model_module_version": "2.0.0",
          "state": {
            "_model_module": "@jupyter-widgets/controls",
            "_model_module_version": "2.0.0",
            "_model_name": "HTMLStyleModel",
            "_view_count": null,
            "_view_module": "@jupyter-widgets/base",
            "_view_module_version": "2.0.0",
            "_view_name": "StyleView",
            "background": null,
            "description_width": "",
            "font_size": null,
            "text_color": null
          }
        },
        "7786aa7e9b134984b4c434414eb75dae": {
          "model_module": "@jupyter-widgets/base",
          "model_name": "LayoutModel",
          "model_module_version": "2.0.0",
          "state": {
            "_model_module": "@jupyter-widgets/base",
            "_model_module_version": "2.0.0",
            "_model_name": "LayoutModel",
            "_view_count": null,
            "_view_module": "@jupyter-widgets/base",
            "_view_module_version": "2.0.0",
            "_view_name": "LayoutView",
            "align_content": null,
            "align_items": null,
            "align_self": null,
            "border_bottom": null,
            "border_left": null,
            "border_right": null,
            "border_top": null,
            "bottom": null,
            "display": null,
            "flex": null,
            "flex_flow": null,
            "grid_area": null,
            "grid_auto_columns": null,
            "grid_auto_flow": null,
            "grid_auto_rows": null,
            "grid_column": null,
            "grid_gap": null,
            "grid_row": null,
            "grid_template_areas": null,
            "grid_template_columns": null,
            "grid_template_rows": null,
            "height": null,
            "justify_content": null,
            "justify_items": null,
            "left": null,
            "margin": null,
            "max_height": null,
            "max_width": null,
            "min_height": null,
            "min_width": null,
            "object_fit": null,
            "object_position": null,
            "order": null,
            "overflow": null,
            "padding": null,
            "right": null,
            "top": null,
            "visibility": null,
            "width": null
          }
        },
        "a9449d50b4f14a07b8d0bf4632f52150": {
          "model_module": "@jupyter-widgets/controls",
          "model_name": "ProgressStyleModel",
          "model_module_version": "2.0.0",
          "state": {
            "_model_module": "@jupyter-widgets/controls",
            "_model_module_version": "2.0.0",
            "_model_name": "ProgressStyleModel",
            "_view_count": null,
            "_view_module": "@jupyter-widgets/base",
            "_view_module_version": "2.0.0",
            "_view_name": "StyleView",
            "bar_color": null,
            "description_width": ""
          }
        },
        "dbe7c1ae919e45cf8a839ff85f03ee03": {
          "model_module": "@jupyter-widgets/base",
          "model_name": "LayoutModel",
          "model_module_version": "2.0.0",
          "state": {
            "_model_module": "@jupyter-widgets/base",
            "_model_module_version": "2.0.0",
            "_model_name": "LayoutModel",
            "_view_count": null,
            "_view_module": "@jupyter-widgets/base",
            "_view_module_version": "2.0.0",
            "_view_name": "LayoutView",
            "align_content": null,
            "align_items": null,
            "align_self": null,
            "border_bottom": null,
            "border_left": null,
            "border_right": null,
            "border_top": null,
            "bottom": null,
            "display": null,
            "flex": null,
            "flex_flow": null,
            "grid_area": null,
            "grid_auto_columns": null,
            "grid_auto_flow": null,
            "grid_auto_rows": null,
            "grid_column": null,
            "grid_gap": null,
            "grid_row": null,
            "grid_template_areas": null,
            "grid_template_columns": null,
            "grid_template_rows": null,
            "height": null,
            "justify_content": null,
            "justify_items": null,
            "left": null,
            "margin": null,
            "max_height": null,
            "max_width": null,
            "min_height": null,
            "min_width": null,
            "object_fit": null,
            "object_position": null,
            "order": null,
            "overflow": null,
            "padding": null,
            "right": null,
            "top": null,
            "visibility": null,
            "width": null
          }
        },
        "0bf15d2a67fb46c884ea454ea8419bd7": {
          "model_module": "@jupyter-widgets/controls",
          "model_name": "HTMLStyleModel",
          "model_module_version": "2.0.0",
          "state": {
            "_model_module": "@jupyter-widgets/controls",
            "_model_module_version": "2.0.0",
            "_model_name": "HTMLStyleModel",
            "_view_count": null,
            "_view_module": "@jupyter-widgets/base",
            "_view_module_version": "2.0.0",
            "_view_name": "StyleView",
            "background": null,
            "description_width": "",
            "font_size": null,
            "text_color": null
          }
        }
      }
    }
  },
  "nbformat": 4,
  "nbformat_minor": 0
}